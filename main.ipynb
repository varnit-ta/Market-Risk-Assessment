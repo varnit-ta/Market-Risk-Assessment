{
 "cells": [
  {
   "cell_type": "code",
   "execution_count": 11,
   "metadata": {},
   "outputs": [
    {
     "data": {
      "text/plain": [
       "'\\n    Author:  Varnit Singh\\n    Date:    7/7/2024\\n    Purpose: Market Risk Assessment Using Deep Learning Model\\n    Github: https://github.com/varnit-ta\\n'"
      ]
     },
     "execution_count": 11,
     "metadata": {},
     "output_type": "execute_result"
    }
   ],
   "source": [
    "'''\n",
    "    Author:  Varnit Singh\n",
    "    Date:    7/7/2024\n",
    "    Purpose: Market Risk Assessment Using Deep Learning Model\n",
    "    Github: https://github.com/varnit-ta\n",
    "'''"
   ]
  },
  {
   "cell_type": "markdown",
   "metadata": {},
   "source": [
    "## Training and Evaluating the model"
   ]
  },
  {
   "cell_type": "code",
   "execution_count": 12,
   "metadata": {},
   "outputs": [],
   "source": [
    "import pandas as pd\n",
    "import numpy as np\n",
    "import torch\n",
    "import torch.nn as nn\n",
    "import torch.optim as optim\n",
    "import matplotlib.pyplot as plt\n",
    "from sklearn.preprocessing import RobustScaler\n",
    "from sklearn.model_selection import train_test_split\n",
    "from sklearn.impute import SimpleImputer"
   ]
  },
  {
   "cell_type": "code",
   "execution_count": 13,
   "metadata": {},
   "outputs": [
    {
     "name": "stdout",
     "output_type": "stream",
     "text": [
      "Filtered and preprocessed data:\n",
      "Features shape: (793, 8)\n",
      "Target shape: (793,)\n"
     ]
    }
   ],
   "source": [
    "'''\n",
    "    Load the data and preprocess it\n",
    "'''\n",
    "\n",
    "# Load the data\n",
    "data = pd.read_csv('data.csv')\n",
    "\n",
    "# Define features and target\n",
    "features = ['Volatility', 'Beta', 'Market Cap', 'P/E Ratio', 'Dividend Yield', 'Current Ratio', '52 Week High', '52 Week Low']\n",
    "target = 'Risk Percentage'\n",
    "\n",
    "data = data.dropna(subset=[target])\n",
    "\n",
    "missing_counts = data[features].isnull().sum(axis=1)\n",
    "\n",
    "filtered_data = data[missing_counts <= 4]\n",
    "\n",
    "# Separate features and target\n",
    "X = filtered_data[features].values\n",
    "y = filtered_data[target].values\n",
    "\n",
    "X = np.where(np.isfinite(X), X, np.nan)\n",
    "\n",
    "imputer = SimpleImputer(strategy='mean')\n",
    "X = imputer.fit_transform(X)\n",
    "\n",
    "scaler = RobustScaler()\n",
    "X = scaler.fit_transform(X)\n",
    "\n",
    "print(\"Filtered and preprocessed data:\")\n",
    "print(\"Features shape:\", X.shape)\n",
    "print(\"Target shape:\", y.shape)"
   ]
  },
  {
   "cell_type": "code",
   "execution_count": 14,
   "metadata": {},
   "outputs": [],
   "source": [
    "'''\n",
    "    Split the data into training and testing sets\n",
    "    then convert them to PyTorch tensors\n",
    "'''\n",
    "\n",
    "X_train, X_test, y_train, y_test = train_test_split(X, y, test_size=0.2, random_state=42)\n",
    "\n",
    "X_train = torch.tensor(X_train, dtype=torch.float32)\n",
    "y_train = torch.tensor(y_train, dtype=torch.float32).view(-1, 1)\n",
    "X_test = torch.tensor(X_test, dtype=torch.float32)\n",
    "y_test = torch.tensor(y_test, dtype=torch.float32).view(-1, 1)"
   ]
  },
  {
   "cell_type": "code",
   "execution_count": 15,
   "metadata": {},
   "outputs": [],
   "source": [
    "'''\n",
    "    Defining the hyperparameters for the model\n",
    "    input_size: Number of features\n",
    "    hidden_size: Number of neurons in the hidden layer\n",
    "    num_layers: Number of hidden layers\n",
    "    output_size: Number of output neurons\n",
    "    dropout_rate: Dropout rate for regularization\n",
    "    learning_rate: Learning rate for the optimizer\n",
    "    num_epochs: Number of epochs for training\n",
    "    batch_size: Number of samples in each batch\n",
    "'''\n",
    "\n",
    "input_size = len(features)\n",
    "hidden_size = 64\n",
    "num_layers = 2\n",
    "output_size = 1\n",
    "dropout_rate = 0.3\n",
    "learning_rate = 0.001\n",
    "num_epochs = 300\n",
    "batch_size = 32"
   ]
  },
  {
   "cell_type": "code",
   "execution_count": 16,
   "metadata": {},
   "outputs": [],
   "source": [
    "'''\n",
    "    Data Loader for training the model\n",
    "    train_dataset: TensorDataset containing training data\n",
    "    train_loader: DataLoader for the training dataset\n",
    "'''\n",
    "\n",
    "train_dataset = torch.utils.data.TensorDataset(X_train, y_train)\n",
    "train_loader = torch.utils.data.DataLoader(train_dataset, batch_size=batch_size, shuffle=True)"
   ]
  },
  {
   "cell_type": "code",
   "execution_count": 17,
   "metadata": {},
   "outputs": [],
   "source": [
    "'''\n",
    "    Define the LSTM model\n",
    "    The model consists of an LSTM layer followed by two fully connected layers\n",
    "    The model uses ReLU activation function and dropout for regularization\n",
    "    The model also uses batch normalization to normalize the output of the LSTM layer\n",
    "\n",
    "    Args:\n",
    "        input_size: Number of features\n",
    "        hidden_size: Number of hidden layers\n",
    "        num_layers: Number of layers\n",
    "        output_size: Number of outputs\n",
    "        dropout_rate: Dropout rate\n",
    "'''\n",
    "\n",
    "class MarketRiskLSTM(nn.Module):\n",
    "    def __init__(self, input_size, hidden_size, output_size, num_layers, dropout_rate):\n",
    "        super(MarketRiskLSTM, self).__init__()\n",
    "        self.lstm = nn.LSTM(input_size, hidden_size, num_layers, batch_first=True, dropout=dropout_rate)\n",
    "        self.fc1 = nn.Linear(hidden_size, hidden_size // 2)\n",
    "        self.fc2 = nn.Linear(hidden_size // 2, output_size)\n",
    "        self.relu = nn.ReLU()\n",
    "        self.dropout = nn.Dropout(dropout_rate)\n",
    "        self.batch_norm = nn.BatchNorm1d(hidden_size)\n",
    "        \n",
    "    def forward(self, x):\n",
    "        h0 = torch.zeros(self.lstm.num_layers, x.size(0), self.lstm.hidden_size).to(x.device)\n",
    "        c0 = torch.zeros(self.lstm.num_layers, x.size(0), self.lstm.hidden_size).to(x.device)\n",
    "        out, _ = self.lstm(x, (h0, c0))\n",
    "        out = self.relu(out[:, -1, :])\n",
    "        out = self.dropout(out)\n",
    "        out = self.batch_norm(out)\n",
    "        out = self.relu(self.fc1(out))\n",
    "        out = self.fc2(out)\n",
    "        return out"
   ]
  },
  {
   "cell_type": "code",
   "execution_count": 18,
   "metadata": {},
   "outputs": [],
   "source": [
    "'''\n",
    "    Initialize the model, loss function and optimizer\n",
    "'''\n",
    "\n",
    "model = MarketRiskLSTM(input_size, hidden_size, output_size, num_layers, dropout_rate)\n",
    "criterion = nn.MSELoss()\n",
    "optimizer = optim.Adam(model.parameters(), lr=learning_rate)"
   ]
  },
  {
   "cell_type": "code",
   "execution_count": 19,
   "metadata": {},
   "outputs": [],
   "source": [
    "'''\n",
    "    Learning rate scheduler\n",
    "'''\n",
    "\n",
    "scheduler = optim.lr_scheduler.ReduceLROnPlateau(optimizer, 'min', patience=10, factor=0.5)"
   ]
  },
  {
   "cell_type": "code",
   "execution_count": 20,
   "metadata": {},
   "outputs": [
    {
     "name": "stdout",
     "output_type": "stream",
     "text": [
      "================================================================================\n",
      "Epoch [10/300]\n",
      "Train Loss: 290.3258\n",
      "Test Loss: 161.1856\n",
      "================================================================================\n",
      "================================================================================\n",
      "Epoch [20/300]\n",
      "Train Loss: 98.7916\n",
      "Test Loss: 45.6117\n",
      "================================================================================\n",
      "================================================================================\n",
      "Epoch [30/300]\n",
      "Train Loss: 43.6135\n",
      "Test Loss: 12.4691\n",
      "================================================================================\n",
      "================================================================================\n",
      "Epoch [40/300]\n",
      "Train Loss: 34.6482\n",
      "Test Loss: 12.2008\n",
      "================================================================================\n",
      "================================================================================\n",
      "Epoch [50/300]\n",
      "Train Loss: 30.2523\n",
      "Test Loss: 11.0146\n",
      "================================================================================\n",
      "================================================================================\n",
      "Epoch [60/300]\n",
      "Train Loss: 22.8357\n",
      "Test Loss: 10.9071\n",
      "================================================================================\n",
      "================================================================================\n",
      "Epoch [70/300]\n",
      "Train Loss: 23.7542\n",
      "Test Loss: 11.1680\n",
      "================================================================================\n",
      "================================================================================\n",
      "Epoch [80/300]\n",
      "Train Loss: 16.5446\n",
      "Test Loss: 10.8029\n",
      "================================================================================\n",
      "================================================================================\n",
      "Epoch [90/300]\n",
      "Train Loss: 17.4608\n",
      "Test Loss: 10.5319\n",
      "================================================================================\n",
      "================================================================================\n",
      "Epoch [100/300]\n",
      "Train Loss: 17.2197\n",
      "Test Loss: 10.6447\n",
      "================================================================================\n",
      "================================================================================\n",
      "Epoch [110/300]\n",
      "Train Loss: 15.6259\n",
      "Test Loss: 10.6203\n",
      "================================================================================\n",
      "================================================================================\n",
      "Epoch [120/300]\n",
      "Train Loss: 13.8584\n",
      "Test Loss: 10.1785\n",
      "================================================================================\n",
      "Early stopping at epoch 123\n"
     ]
    }
   ],
   "source": [
    "'''\n",
    "    Training and testing the model using early stopping\n",
    "    The model is saved if the testing loss improves\n",
    "    The model stops training if there is no improvement in the testing loss for a number of epochs\n",
    "    \n",
    "    Args:\n",
    "        num_epochs: Number of epochs\n",
    "        patience: Number of epochs to wait before stopping\n",
    "        best_loss: Best loss value\n",
    "        no_improve: Number of epochs with no improvement\n",
    "        train_losses: Training losses\n",
    "        test_losses: Testing losses\n",
    "    Returns:\n",
    "        Trained model\n",
    "'''\n",
    "\n",
    "best_loss = float('inf')\n",
    "patience = 20\n",
    "no_improve = 0\n",
    "\n",
    "train_losses = []\n",
    "test_losses = []\n",
    "\n",
    "for epoch in range(num_epochs):\n",
    "    model.train()\n",
    "    epoch_loss = 0\n",
    "    for batch_X, batch_y in train_loader:\n",
    "        optimizer.zero_grad()\n",
    "        outputs = model(batch_X.unsqueeze(1))\n",
    "        loss = criterion(outputs, batch_y)\n",
    "        loss.backward()\n",
    "        optimizer.step()\n",
    "        epoch_loss += loss.item()\n",
    "    \n",
    "    epoch_loss /= len(train_loader)\n",
    "    train_losses.append(epoch_loss)\n",
    "\n",
    "    model.eval()\n",
    "    with torch.no_grad():\n",
    "        test_outputs = model(X_test.unsqueeze(1))\n",
    "        test_loss = criterion(test_outputs, y_test)\n",
    "        test_losses.append(test_loss.item())\n",
    "\n",
    "    scheduler.step(test_loss)\n",
    "\n",
    "    if test_loss < best_loss:\n",
    "        best_loss = test_loss\n",
    "        no_improve = 0\n",
    "        torch.save(model.state_dict(), 'market_risk_lstm.pth')\n",
    "    else:\n",
    "        no_improve += 1\n",
    "\n",
    "    if no_improve >= patience:\n",
    "        print(f\"Early stopping at epoch {epoch+1}\")\n",
    "        break\n",
    "\n",
    "    if (epoch+1) % 10 == 0:\n",
    "        print(\"=\"*80)\n",
    "        print(\"Epoch [{}/{}]\".format(epoch+1, num_epochs))\n",
    "        print(f\"Train Loss: {epoch_loss:.4f}\")\n",
    "        print(f\"Test Loss: {test_loss:.4f}\")\n",
    "        print(\"=\"*80)"
   ]
  },
  {
   "cell_type": "code",
   "execution_count": 21,
   "metadata": {},
   "outputs": [
    {
     "data": {
      "image/png": "[encoded data removed]",
      "text/plain": [
       "<Figure size 1200x600 with 1 Axes>"
      ]
     },
     "metadata": {},
     "output_type": "display_data"
    }
   ],
   "source": [
    "'''\n",
    "    Plot the training and testing losses over epochs\n",
    "'''\n",
    "\n",
    "plt.figure(figsize=(12, 6))\n",
    "\n",
    "plt.subplot(1, 2, 1)\n",
    "plt.plot(train_losses, label='Train Loss')\n",
    "plt.plot(test_losses, label='Test Loss')\n",
    "plt.title('Training and Test Loss over Epochs')\n",
    "plt.xlabel('Epoch')\n",
    "plt.ylabel('Loss')\n",
    "plt.legend()\n",
    "plt.grid(True)\n",
    "\n",
    "plt.tight_layout()\n",
    "plt.show()"
   ]
  },
  {
   "cell_type": "code",
   "execution_count": 22,
   "metadata": {},
   "outputs": [],
   "source": [
    "'''\n",
    "    Save the model to a file\n",
    "'''\n",
    "\n",
    "torch.save(model.state_dict(), 'market_risk_lstm.pth')"
   ]
  },
  {
   "cell_type": "markdown",
   "metadata": {},
   "source": [
    "## Using the Model by the users"
   ]
  },
  {
   "cell_type": "code",
   "execution_count": 23,
   "metadata": {},
   "outputs": [],
   "source": [
    "model_path = 'market_risk_lstm.pth'"
   ]
  },
  {
   "cell_type": "code",
   "execution_count": 24,
   "metadata": {},
   "outputs": [],
   "source": [
    "def preprocess_input(data, scaler):\n",
    "    imputer = SimpleImputer(strategy='mean')\n",
    "    data = imputer.fit_transform(data)\n",
    "    \n",
    "    data = scaler.transform(data)\n",
    "    data = torch.tensor(data, dtype=torch.float32)\n",
    "    return data"
   ]
  },
  {
   "cell_type": "code",
   "execution_count": 25,
   "metadata": {},
   "outputs": [],
   "source": [
    "'''\n",
    "    Transfer the model state dict to the new model\n",
    "    \n",
    "    Args:\n",
    "        model: New model\n",
    "        state_dict: Model state dict\n",
    "    Returns:\n",
    "        New model with transferred state dict\n",
    "'''\n",
    "\n",
    "model = MarketRiskLSTM(input_size, hidden_size=hidden_size, output_size=1, num_layers=num_layers, dropout_rate=dropout_rate)\n",
    "state_dict = torch.load(model_path, map_location=torch.device('cuda'))"
   ]
  },
  {
   "cell_type": "code",
   "execution_count": 26,
   "metadata": {},
   "outputs": [],
   "source": [
    "'''\n",
    "    Handle different model architectures by transferring compatible layers\n",
    "    \n",
    "    Args:\n",
    "        model: New model\n",
    "        state_dict: Model state dict\n",
    "    Returns:\n",
    "        New model with transferred state dict\n",
    "'''\n",
    "\n",
    "model_state_dict = model.state_dict()\n",
    "for name, param in state_dict.items():\n",
    "    if name in model_state_dict:\n",
    "        if param.shape == model_state_dict[name].shape:\n",
    "            model_state_dict[name] = param"
   ]
  },
  {
   "cell_type": "code",
   "execution_count": 28,
   "metadata": {},
   "outputs": [
    {
     "data": {
      "text/plain": [
       "MarketRiskLSTM(\n",
       "  (lstm): LSTM(8, 64, num_layers=2, batch_first=True, dropout=0.3)\n",
       "  (fc1): Linear(in_features=64, out_features=32, bias=True)\n",
       "  (fc2): Linear(in_features=32, out_features=1, bias=True)\n",
       "  (relu): ReLU()\n",
       "  (dropout): Dropout(p=0.3, inplace=False)\n",
       "  (batch_norm): BatchNorm1d(64, eps=1e-05, momentum=0.1, affine=True, track_running_stats=True)\n",
       ")"
      ]
     },
     "execution_count": 28,
     "metadata": {},
     "output_type": "execute_result"
    }
   ],
   "source": [
    "'''\n",
    "    Load the transferred state dict to the new model\n",
    "'''\n",
    "\n",
    "model.load_state_dict(torch.load('market_risk_lstm.pth'))\n",
    "model.eval()"
   ]
  },
  {
   "cell_type": "code",
   "execution_count": 29,
   "metadata": {},
   "outputs": [
    {
     "name": "stdout",
     "output_type": "stream",
     "text": [
      "Enter values for the following features:\n"
     ]
    }
   ],
   "source": [
    "'''\n",
    "    User input for prediction\n",
    "    \n",
    "    Args:\n",
    "        features: List of features\n",
    "    Returns:\n",
    "        User input values\n",
    "'''\n",
    "\n",
    "print(\"Enter values for the following features:\")\n",
    "user_input = []\n",
    "for feature in features:\n",
    "    value = float(input(f\"{feature}: \"))\n",
    "    user_input.append(value)"
   ]
  },
  {
   "cell_type": "code",
   "execution_count": 30,
   "metadata": {},
   "outputs": [],
   "source": [
    "'''\n",
    "    Preprocess the user input for prediction\n",
    "    \n",
    "    Args:\n",
    "        user_input: User input values\n",
    "        scaler: MinMaxScaler object\n",
    "    Returns:\n",
    "        Processed user input\n",
    "'''\n",
    "\n",
    "user_input = pd.DataFrame([user_input], columns=features)\n",
    "user_input_processed = preprocess_input(user_input.values, scaler)"
   ]
  },
  {
   "cell_type": "code",
   "execution_count": 31,
   "metadata": {},
   "outputs": [
    {
     "name": "stdout",
     "output_type": "stream",
     "text": [
      "\n",
      "Predicted Risk Percentage: 48.78\n"
     ]
    }
   ],
   "source": [
    "'''\n",
    "    Predict the risk percentage\n",
    "    \n",
    "    Args:\n",
    "        user_input_processed: Processed user input\n",
    "    Returns:\n",
    "        Predicted risk percentage\n",
    "'''\n",
    "\n",
    "with torch.no_grad():\n",
    "    output = model(user_input_processed.unsqueeze(0)).item()\n",
    "\n",
    "print(f\"\\nPredicted Risk Percentage: {output:.2f}\")"
   ]
  }
 ],
 "metadata": {
  "kernelspec": {
   "display_name": "Python 3",
   "language": "python",
   "name": "python3"
  },
  "language_info": {
   "codemirror_mode": {
    "name": "ipython",
    "version": 3
   },
   "file_extension": ".py",
   "mimetype": "text/x-python",
   "name": "python",
   "nbconvert_exporter": "python",
   "pygments_lexer": "ipython3",
   "version": "3.9.0"
  }
 },
 "nbformat": 4,
 "nbformat_minor": 2
}
