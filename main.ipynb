{
 "cells": [
  {
   "cell_type": "code",
   "execution_count": null,
   "metadata": {},
   "outputs": [],
   "source": [
    "'''\n",
    "    Author:  Varnit Singh\n",
    "    Date:    7/7/2024\n",
    "    Purpose: Market Risk Assessment Using Deep Learning Model\n",
    "    Github: https://github.com/varnit-ta\n",
    "'''"
   ]
  },
  {
   "cell_type": "markdown",
   "metadata": {},
   "source": [
    "## Training and Evaluating the model"
   ]
  },
  {
   "cell_type": "code",
   "execution_count": null,
   "metadata": {},
   "outputs": [],
   "source": [
    "import pandas as pd\n",
    "import torch\n",
    "import torch.nn as nn\n",
    "import torch.optim as optim\n",
    "import matplotlib.pyplot as plt\n",
    "from sklearn.preprocessing import MinMaxScaler\n",
    "from sklearn.model_selection import train_test_split\n",
    "from sklearn.impute import SimpleImputer"
   ]
  },
  {
   "cell_type": "code",
   "execution_count": null,
   "metadata": {},
   "outputs": [],
   "source": [
    "'''\n",
    "    Load the data from the csv file and preprocess it.\n",
    "    The data is stored in a pandas DataFrame.\n",
    "    The features are stored in a 2D numpy array.\n",
    "    The target is stored in a 1D numpy array.\n",
    "    Missing values are filled with the mean.\n",
    "    The data is normalized to be between 0 and 1.\n",
    "'''\n",
    "\n",
    "data = pd.read_csv('data.csv')\n",
    "features = ['Volatility', 'Beta', 'Market Cap', 'P/E Ratio', 'Dividend Yield', 'Current Ratio', '52 Week High', '52 Week Low']\n",
    "target = 'Risk Percentage'\n",
    "\n",
    "X = data[features].values\n",
    "y = data[target].values\n",
    "\n",
    "imputer = SimpleImputer(strategy='mean')\n",
    "X = imputer.fit_transform(X)\n",
    "\n",
    "scaler = MinMaxScaler()\n",
    "X = scaler.fit_transform(X)"
   ]
  },
  {
   "cell_type": "code",
   "execution_count": null,
   "metadata": {},
   "outputs": [],
   "source": [
    "'''\n",
    "    Split the data into training and testing sets\n",
    "    then convert them to PyTorch tensors\n",
    "'''\n",
    "\n",
    "X_train, X_test, y_train, y_test = train_test_split(X, y, test_size=0.2, random_state=42)\n",
    "\n",
    "X_train = torch.tensor(X_train, dtype=torch.float32)\n",
    "y_train = torch.tensor(y_train, dtype=torch.float32).view(-1, 1)\n",
    "X_test = torch.tensor(X_test, dtype=torch.float32)\n",
    "y_test = torch.tensor(y_test, dtype=torch.float32).view(-1, 1)"
   ]
  },
  {
   "cell_type": "code",
   "execution_count": null,
   "metadata": {},
   "outputs": [],
   "source": [
    "'''\n",
    "    Defining the hyperparameters for the model\n",
    "    input_size: Number of features\n",
    "    hidden_size: Number of hidden layers\n",
    "    num_layers: Number of layers\n",
    "    output_size: Number of outputs\n",
    "    dropout_rate: Dropout rate\n",
    "    learning_rate: Learning rate\n",
    "    num_epochs: Number of epochs\n",
    "'''\n",
    "\n",
    "input_size = len(features)\n",
    "hidden_size = 8\n",
    "num_layers = 30\n",
    "output_size = 1\n",
    "dropout_rate = 0.2\n",
    "learning_rate = 0.012\n",
    "num_epochs = 1000"
   ]
  },
  {
   "cell_type": "code",
   "execution_count": null,
   "metadata": {},
   "outputs": [],
   "source": [
    "'''\n",
    "    Define the LSTM model\n",
    "    Args:\n",
    "        input_size: Number of features\n",
    "        hidden_size: Number of hidden units\n",
    "        output_size: Number of output units\n",
    "        num_layers: Number of LSTM layers\n",
    "        dropout_rate: Dropout rate\n",
    "    Returns:\n",
    "        LSTM model\n",
    "'''\n",
    "\n",
    "class MarketRiskLSTM(nn.Module):\n",
    "    def __init__(self, input_size, hidden_size, output_size, num_layers, dropout_rate):\n",
    "        super(MarketRiskLSTM, self).__init__()\n",
    "        self.lstm = nn.LSTM(input_size, hidden_size, num_layers, batch_first=True, dropout=dropout_rate)\n",
    "        self.fc = nn.Linear(hidden_size, output_size)\n",
    "        self.relu = nn.ReLU()\n",
    "        self.dropout = nn.Dropout(dropout_rate)\n",
    "    \n",
    "    def forward(self, x):\n",
    "        h0 = torch.zeros(num_layers, x.size(0), hidden_size).to(x.device)\n",
    "        c0 = torch.zeros(num_layers, x.size(0), hidden_size).to(x.device)\n",
    "        out, _ = self.lstm(x, (h0, c0))\n",
    "        out = self.relu(out[:, -1, :])\n",
    "        out = self.dropout(out)\n",
    "        out = self.fc(out)\n",
    "        return out"
   ]
  },
  {
   "cell_type": "code",
   "execution_count": null,
   "metadata": {},
   "outputs": [],
   "source": [
    "model = MarketRiskLSTM(input_size, hidden_size, output_size, num_layers, dropout_rate)\n",
    "criterion = nn.MSELoss()\n",
    "optimizer = optim.RMSprop(model.parameters(), lr=learning_rate, weight_decay=0.01)"
   ]
  },
  {
   "cell_type": "code",
   "execution_count": null,
   "metadata": {},
   "outputs": [],
   "source": [
    "'''\n",
    "    Training and testing the model\n",
    "    \n",
    "    Args:\n",
    "        X_train: training data\n",
    "        y_train: training labels\n",
    "        X_test: testing data\n",
    "        y_test: testing labels\n",
    "        num_epochs: number of epochs\n",
    "    Returns:\n",
    "        train_losses: list of training losses\n",
    "        test_losses: list of testing losses\n",
    "'''\n",
    "\n",
    "train_losses = []\n",
    "test_losses = []\n",
    "\n",
    "for epoch in range(num_epochs):\n",
    "    model.train()\n",
    "    outputs = model(X_train.unsqueeze(1))\n",
    "    \n",
    "    optimizer.zero_grad()\n",
    "    loss = criterion(outputs, y_train)\n",
    "    loss.backward()\n",
    "    optimizer.step()\n",
    "\n",
    "    train_losses.append(loss.item())\n",
    "\n",
    "    model.eval()\n",
    "    with torch.no_grad():\n",
    "        predictions = model(X_test.unsqueeze(1))\n",
    "        test_loss = criterion(predictions, y_test)\n",
    "        test_losses.append(test_loss.item())\n",
    "\n",
    "    if (epoch+1) % 10 == 0:\n",
    "        print(\"=\"*80)\n",
    "        print(\"Epoch [{}/{}]\".format(epoch+1, num_epochs))\n",
    "        print(\"Train Loss: {:.4f}, Test Loss: {:.4f}\".format(loss.item(), test_loss.item()))\n",
    "        print(\"=\"*80)"
   ]
  },
  {
   "cell_type": "code",
   "execution_count": null,
   "metadata": {},
   "outputs": [],
   "source": [
    "'''\n",
    "    Plot the training and testing losses over epochs\n",
    "'''\n",
    "\n",
    "plt.figure(figsize=(12, 6))\n",
    "\n",
    "plt.subplot(1, 2, 1)\n",
    "plt.plot(train_losses, label='Train Loss')\n",
    "plt.plot(test_losses, label='Test Loss')\n",
    "plt.title('Training and Test Loss over Epochs')\n",
    "plt.xlabel('Epoch')\n",
    "plt.ylabel('Loss')\n",
    "plt.legend()\n",
    "plt.grid(True)\n",
    "\n",
    "plt.tight_layout()\n",
    "plt.show()"
   ]
  },
  {
   "cell_type": "code",
   "execution_count": null,
   "metadata": {},
   "outputs": [],
   "source": [
    "'''\n",
    "    Save the model to a file\n",
    "'''\n",
    "\n",
    "torch.save(model.state_dict(), 'market_risk_lstm.pth')"
   ]
  },
  {
   "cell_type": "markdown",
   "metadata": {},
   "source": [
    "## Using the Model by the users"
   ]
  },
  {
   "cell_type": "code",
   "execution_count": null,
   "metadata": {},
   "outputs": [],
   "source": [
    "model_path = 'market_risk_lstm.pth'\n",
    "input_size = 8\n",
    "hidden_size = 8\n",
    "num_layers = 30"
   ]
  },
  {
   "cell_type": "code",
   "execution_count": null,
   "metadata": {},
   "outputs": [],
   "source": [
    "class MarketRiskLSTM(torch.nn.Module):\n",
    "    def __init__(self, input_size, hidden_size, output_size, num_layers, dropout_rate):\n",
    "        super(MarketRiskLSTM, self).__init__()\n",
    "        self.lstm = torch.nn.LSTM(input_size, hidden_size, num_layers, batch_first=True, dropout=dropout_rate)\n",
    "        self.fc = torch.nn.Linear(hidden_size, output_size)\n",
    "        self.relu = torch.nn.ReLU()\n",
    "        self.dropout = torch.nn.Dropout(dropout_rate)\n",
    "        self.hidden_size = hidden_size\n",
    "        self.num_layers = num_layers\n",
    "    \n",
    "    def forward(self, x):\n",
    "        batch_size = x.size(0)\n",
    "        h0 = torch.zeros(self.num_layers, batch_size, self.hidden_size).to(x.device)\n",
    "        c0 = torch.zeros(self.num_layers, batch_size, self.hidden_size).to(x.device)\n",
    "        \n",
    "        out, _ = self.lstm(x, (h0, c0))\n",
    "        out = self.relu(out[:, -1, :])\n",
    "        out = self.dropout(out)\n",
    "        out = self.fc(out)\n",
    "        return out"
   ]
  },
  {
   "cell_type": "code",
   "execution_count": null,
   "metadata": {},
   "outputs": [],
   "source": [
    "def preprocess_input(data, scaler):\n",
    "    imputer = SimpleImputer(strategy='mean')\n",
    "    data = imputer.fit_transform(data)\n",
    "    \n",
    "    data = scaler.transform(data)\n",
    "    data = torch.tensor(data, dtype=torch.float32)\n",
    "    return data"
   ]
  },
  {
   "cell_type": "code",
   "execution_count": null,
   "metadata": {},
   "outputs": [],
   "source": [
    "data = pd.read_csv('data.csv')\n",
    "features = ['Volatility', 'Beta', 'Market Cap', 'P/E Ratio', 'Dividend Yield', 'Current Ratio', '52 Week High', '52 Week Low']\n",
    "X = data[features].values\n",
    "\n",
    "scaler = MinMaxScaler()\n",
    "scaler.fit(X)"
   ]
  },
  {
   "cell_type": "code",
   "execution_count": null,
   "metadata": {},
   "outputs": [],
   "source": [
    "'''\n",
    "    Transfer the model state dict to the new model\n",
    "    Args:\n",
    "        model: New model\n",
    "        state_dict: Model state dict\n",
    "    Returns:\n",
    "        New model with transferred state dict\n",
    "'''\n",
    "\n",
    "model = MarketRiskLSTM(input_size, hidden_size=hidden_size, output_size=1, num_layers=num_layers, dropout_rate=0.2)\n",
    "state_dict = torch.load(model_path, map_location=torch.device('cuda'))"
   ]
  },
  {
   "cell_type": "code",
   "execution_count": null,
   "metadata": {},
   "outputs": [],
   "source": [
    "'''\n",
    "    Handle different model architectures by transferring compatible layers\n",
    "    Args:\n",
    "        model: New model\n",
    "        state_dict: Model state dict\n",
    "    Returns:\n",
    "        New model with transferred state dict\n",
    "'''\n",
    "\n",
    "model_state_dict = model.state_dict()\n",
    "for name, param in state_dict.items():\n",
    "    if name in model_state_dict:\n",
    "        if param.shape == model_state_dict[name].shape:\n",
    "            model_state_dict[name] = param"
   ]
  },
  {
   "cell_type": "code",
   "execution_count": null,
   "metadata": {},
   "outputs": [],
   "source": [
    "model.load_state_dict(model_state_dict)\n",
    "model.eval()"
   ]
  },
  {
   "cell_type": "code",
   "execution_count": null,
   "metadata": {},
   "outputs": [],
   "source": [
    "'''\n",
    "    User input for prediction\n",
    "    Args:\n",
    "        features: List of features\n",
    "    Returns:\n",
    "        User input values\n",
    "'''\n",
    "\n",
    "print(\"Enter values for the following features:\")\n",
    "user_input = []\n",
    "for feature in features:\n",
    "    value = float(input(f\"{feature}: \"))\n",
    "    user_input.append(value)"
   ]
  },
  {
   "cell_type": "code",
   "execution_count": null,
   "metadata": {},
   "outputs": [],
   "source": [
    "'''\n",
    "    Preprocess the user input for prediction\n",
    "    Args:\n",
    "        user_input: User input values\n",
    "        scaler: MinMaxScaler object\n",
    "    Returns:\n",
    "        Processed user input\n",
    "'''\n",
    "\n",
    "user_input = pd.DataFrame([user_input], columns=features)\n",
    "user_input_processed = preprocess_input(user_input.values, scaler)"
   ]
  },
  {
   "cell_type": "code",
   "execution_count": null,
   "metadata": {},
   "outputs": [],
   "source": [
    "'''\n",
    "    Predict the risk percentage\n",
    "    Args:\n",
    "        user_input_processed: Processed user input\n",
    "    Returns:\n",
    "        Predicted risk percentage\n",
    "'''\n",
    "\n",
    "with torch.no_grad():\n",
    "    output = model(user_input_processed.unsqueeze(0)).item()\n",
    "\n",
    "print(f\"\\nPredicted Risk Percentage: {output:.2f}\")"
   ]
  }
 ],
 "metadata": {
  "kernelspec": {
   "display_name": "Python 3",
   "language": "python",
   "name": "python3"
  },
  "language_info": {
   "codemirror_mode": {
    "name": "ipython",
    "version": 3
   },
   "file_extension": ".py",
   "mimetype": "text/x-python",
   "name": "python",
   "nbconvert_exporter": "python",
   "pygments_lexer": "ipython3",
   "version": "3.9.0"
  }
 },
 "nbformat": 4,
 "nbformat_minor": 2
}
