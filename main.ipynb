{
 "cells": [
  {
   "cell_type": "code",
   "execution_count": 162,
   "metadata": {},
   "outputs": [
    {
     "data": {
      "text/plain": [
       "'\\n    Author:  Varnit Singh\\n    Date:    7/7/2024\\n    Purpose: Market Risk Assessment Using Deep Learning Model\\n    Github: https://github.com/varnit-ta\\n'"
      ]
     },
     "execution_count": 162,
     "metadata": {},
     "output_type": "execute_result"
    }
   ],
   "source": [
    "'''\n",
    "    Author:  Varnit Singh\n",
    "    Date:    7/7/2024\n",
    "    Purpose: Market Risk Assessment Using Deep Learning Model\n",
    "    Github: https://github.com/varnit-ta\n",
    "'''"
   ]
  },
  {
   "cell_type": "markdown",
   "metadata": {},
   "source": [
    "## Training and Evaluating the model"
   ]
  },
  {
   "cell_type": "code",
   "execution_count": 163,
   "metadata": {},
   "outputs": [],
   "source": [
    "import pandas as pd\n",
    "import numpy as np\n",
    "import torch\n",
    "import torch.nn as nn\n",
    "import torch.optim as optim\n",
    "import matplotlib.pyplot as plt\n",
    "from sklearn.preprocessing import MinMaxScaler\n",
    "from sklearn.model_selection import train_test_split\n",
    "from sklearn.impute import SimpleImputer"
   ]
  },
  {
   "cell_type": "code",
   "execution_count": 164,
   "metadata": {},
   "outputs": [
    {
     "name": "stdout",
     "output_type": "stream",
     "text": [
      "Filtered and preprocessed data:\n",
      "Features shape: (793, 8)\n",
      "Target shape: (793,)\n"
     ]
    }
   ],
   "source": [
    "# Load the data\n",
    "data = pd.read_csv('data.csv')\n",
    "\n",
    "# Define features and target\n",
    "features = ['Volatility', 'Beta', 'Market Cap', 'P/E Ratio', 'Dividend Yield', 'Current Ratio', '52 Week High', '52 Week Low']\n",
    "target = 'Risk Percentage'\n",
    "\n",
    "# Filter out rows where the target is missing\n",
    "data = data.dropna(subset=[target])\n",
    "\n",
    "# Count missing values in each row for the features\n",
    "missing_counts = data[features].isnull().sum(axis=1)\n",
    "\n",
    "# Filter out rows with more than 4 missing values in the features\n",
    "filtered_data = data[missing_counts <= 4]\n",
    "\n",
    "# Separate features and target\n",
    "X = filtered_data[features].values\n",
    "y = filtered_data[target].values\n",
    "\n",
    "# Replace infinite values with NaN (to be handled by the imputer)\n",
    "X = np.where(np.isfinite(X), X, np.nan)\n",
    "\n",
    "# Impute missing values with the mean\n",
    "imputer = SimpleImputer(strategy='mean')\n",
    "X = imputer.fit_transform(X)\n",
    "\n",
    "# Scale the features\n",
    "scaler = MinMaxScaler()\n",
    "X = scaler.fit_transform(X)\n",
    "\n",
    "# Now you can use X and y for training and testing\n",
    "print(\"Filtered and preprocessed data:\")\n",
    "print(\"Features shape:\", X.shape)\n",
    "print(\"Target shape:\", y.shape)"
   ]
  },
  {
   "cell_type": "code",
   "execution_count": 165,
   "metadata": {},
   "outputs": [],
   "source": [
    "'''\n",
    "    Split the data into training and testing sets\n",
    "    then convert them to PyTorch tensors\n",
    "'''\n",
    "\n",
    "X_train, X_test, y_train, y_test = train_test_split(X, y, test_size=0.2, random_state=42)\n",
    "\n",
    "X_train = torch.tensor(X_train, dtype=torch.float32)\n",
    "y_train = torch.tensor(y_train, dtype=torch.float32).view(-1, 1)\n",
    "X_test = torch.tensor(X_test, dtype=torch.float32)\n",
    "y_test = torch.tensor(y_test, dtype=torch.float32).view(-1, 1)"
   ]
  },
  {
   "cell_type": "code",
   "execution_count": 166,
   "metadata": {},
   "outputs": [],
   "source": [
    "'''\n",
    "    Defining the hyperparameters for the model\n",
    "    input_size: Number of features\n",
    "    hidden_size: Number of hidden layers\n",
    "    num_layers: Number of layers\n",
    "    output_size: Number of outputs\n",
    "    dropout_rate: Dropout rate\n",
    "    learning_rate: Learning rate\n",
    "    num_epochs: Number of epochs\n",
    "'''\n",
    "\n",
    "input_size = len(features)\n",
    "hidden_size = 1\n",
    "num_layers = 100\n",
    "output_size = 1\n",
    "dropout_rate = 0.2\n",
    "learning_rate = 0.012\n",
    "num_epochs = 300"
   ]
  },
  {
   "cell_type": "code",
   "execution_count": 167,
   "metadata": {},
   "outputs": [],
   "source": [
    "'''\n",
    "    Define the LSTM model\n",
    "    Args:\n",
    "        input_size: Number of features\n",
    "        hidden_size: Number of hidden units\n",
    "        output_size: Number of output units\n",
    "        num_layers: Number of LSTM layers\n",
    "        dropout_rate: Dropout rate\n",
    "    Returns:\n",
    "        LSTM model\n",
    "'''\n",
    "\n",
    "class MarketRiskLSTM(nn.Module):\n",
    "    def __init__(self, input_size, hidden_size, output_size, num_layers, dropout_rate):\n",
    "        super(MarketRiskLSTM, self).__init__()\n",
    "        self.lstm = nn.LSTM(input_size, hidden_size, num_layers, batch_first=True, dropout=dropout_rate)\n",
    "        self.fc = nn.Linear(hidden_size, output_size)\n",
    "        self.relu = nn.ReLU()\n",
    "        self.dropout = nn.Dropout(dropout_rate)\n",
    "        self.batch_norm = nn.BatchNorm1d(hidden_size)\n",
    "        \n",
    "    def forward(self, x):\n",
    "        h0 = torch.zeros(num_layers, x.size(0), hidden_size).to(x.device)\n",
    "        c0 = torch.zeros(num_layers, x.size(0), hidden_size).to(x.device)\n",
    "        out, _ = self.lstm(x, (h0, c0))\n",
    "        out = self.relu(out[:, -1, :])\n",
    "        out = self.dropout(out)\n",
    "        out = self.batch_norm(out)\n",
    "        out = self.fc(out)\n",
    "        return out"
   ]
  },
  {
   "cell_type": "code",
   "execution_count": 168,
   "metadata": {},
   "outputs": [],
   "source": [
    "model = MarketRiskLSTM(input_size, hidden_size, output_size, num_layers, dropout_rate)\n",
    "criterion = nn.MSELoss()\n",
    "optimizer = optim.RMSprop(model.parameters(), lr=learning_rate, weight_decay=0.01)"
   ]
  },
  {
   "cell_type": "code",
   "execution_count": 169,
   "metadata": {},
   "outputs": [
    {
     "name": "stdout",
     "output_type": "stream",
     "text": [
      "================================================================================\n",
      "Epoch [10/300]\n",
      "Train Loss: 2165.0869, Test Loss: 2159.1536\n",
      "================================================================================\n",
      "================================================================================\n",
      "Epoch [20/300]\n",
      "Train Loss: 2033.7134, Test Loss: 2030.0142\n",
      "================================================================================\n",
      "================================================================================\n",
      "Epoch [30/300]\n",
      "Train Loss: 1909.8561, Test Loss: 1908.1085\n",
      "================================================================================\n",
      "================================================================================\n",
      "Epoch [40/300]\n",
      "Train Loss: 1791.4225, Test Loss: 1791.0497\n",
      "================================================================================\n",
      "================================================================================\n",
      "Epoch [50/300]\n",
      "Train Loss: 1677.5599, Test Loss: 1678.0703\n",
      "================================================================================\n",
      "================================================================================\n",
      "Epoch [60/300]\n",
      "Train Loss: 1567.8586, Test Loss: 1568.8979\n",
      "================================================================================\n",
      "================================================================================\n",
      "Epoch [70/300]\n",
      "Train Loss: 1462.1117, Test Loss: 1463.4445\n",
      "================================================================================\n",
      "================================================================================\n",
      "Epoch [80/300]\n",
      "Train Loss: 1360.2207, Test Loss: 1361.6970\n",
      "================================================================================\n",
      "================================================================================\n",
      "Epoch [90/300]\n",
      "Train Loss: 1262.1478, Test Loss: 1263.6763\n",
      "================================================================================\n",
      "================================================================================\n",
      "Epoch [100/300]\n",
      "Train Loss: 1167.8926, Test Loss: 1169.4188\n",
      "================================================================================\n",
      "================================================================================\n",
      "Epoch [110/300]\n",
      "Train Loss: 1077.4750, Test Loss: 1078.9662\n",
      "================================================================================\n",
      "================================================================================\n",
      "Epoch [120/300]\n",
      "Train Loss: 990.9276, Test Loss: 992.3620\n",
      "================================================================================\n",
      "================================================================================\n",
      "Epoch [130/300]\n",
      "Train Loss: 908.2880, Test Loss: 909.6541\n",
      "================================================================================\n",
      "================================================================================\n",
      "Epoch [140/300]\n",
      "Train Loss: 829.5941, Test Loss: 830.8890\n",
      "================================================================================\n",
      "================================================================================\n",
      "Epoch [150/300]\n",
      "Train Loss: 754.8806, Test Loss: 756.1066\n",
      "================================================================================\n",
      "================================================================================\n",
      "Epoch [160/300]\n",
      "Train Loss: 684.1763, Test Loss: 685.3372\n",
      "================================================================================\n",
      "================================================================================\n",
      "Epoch [170/300]\n",
      "Train Loss: 617.5007, Test Loss: 618.6012\n",
      "================================================================================\n",
      "================================================================================\n",
      "Epoch [180/300]\n",
      "Train Loss: 554.8640, Test Loss: 555.9082\n",
      "================================================================================\n",
      "================================================================================\n",
      "Epoch [190/300]\n",
      "Train Loss: 496.2623, Test Loss: 497.2543\n",
      "================================================================================\n",
      "================================================================================\n",
      "Epoch [200/300]\n",
      "Train Loss: 441.6788, Test Loss: 442.6213\n",
      "================================================================================\n",
      "================================================================================\n",
      "Epoch [210/300]\n",
      "Train Loss: 391.0811, Test Loss: 391.9765\n",
      "================================================================================\n",
      "================================================================================\n",
      "Epoch [220/300]\n",
      "Train Loss: 344.4197, Test Loss: 345.2695\n",
      "================================================================================\n",
      "================================================================================\n",
      "Epoch [230/300]\n",
      "Train Loss: 301.6281, Test Loss: 302.4330\n",
      "================================================================================\n",
      "================================================================================\n",
      "Epoch [240/300]\n",
      "Train Loss: 262.6215, Test Loss: 263.3806\n",
      "================================================================================\n",
      "================================================================================\n",
      "Epoch [250/300]\n",
      "Train Loss: 227.2956, Test Loss: 228.0081\n",
      "================================================================================\n",
      "================================================================================\n",
      "Epoch [260/300]\n",
      "Train Loss: 195.5278, Test Loss: 196.1914\n",
      "================================================================================\n",
      "================================================================================\n",
      "Epoch [270/300]\n",
      "Train Loss: 167.1765, Test Loss: 167.7880\n",
      "================================================================================\n",
      "================================================================================\n",
      "Epoch [280/300]\n",
      "Train Loss: 142.0816, Test Loss: 142.6374\n",
      "================================================================================\n",
      "================================================================================\n",
      "Epoch [290/300]\n",
      "Train Loss: 120.0662, Test Loss: 120.5617\n",
      "================================================================================\n",
      "================================================================================\n",
      "Epoch [300/300]\n",
      "Train Loss: 100.9373, Test Loss: 101.3676\n",
      "================================================================================\n"
     ]
    }
   ],
   "source": [
    "'''\n",
    "    Training and testing the model\n",
    "    \n",
    "    Args:\n",
    "        X_train: training data\n",
    "        y_train: training labels\n",
    "        X_test: testing data\n",
    "        y_test: testing labels\n",
    "        num_epochs: number of epochs\n",
    "    Returns:\n",
    "        train_losses: list of training losses\n",
    "        test_losses: list of testing losses\n",
    "'''\n",
    "\n",
    "train_losses = []\n",
    "test_losses = []\n",
    "\n",
    "for epoch in range(num_epochs):\n",
    "    model.train()\n",
    "    outputs = model(X_train.unsqueeze(1))\n",
    "    \n",
    "    optimizer.zero_grad()\n",
    "    loss = criterion(outputs, y_train)\n",
    "    loss.backward()\n",
    "    optimizer.step()\n",
    "\n",
    "    train_losses.append(loss.item())\n",
    "\n",
    "    model.eval()\n",
    "    with torch.no_grad():\n",
    "        predictions = model(X_test.unsqueeze(1))\n",
    "        test_loss = criterion(predictions, y_test)\n",
    "        test_losses.append(test_loss.item())\n",
    "\n",
    "    if (epoch+1) % 10 == 0:\n",
    "        print(\"=\"*80)\n",
    "        print(\"Epoch [{}/{}]\".format(epoch+1, num_epochs))\n",
    "        print(\"Train Loss: {:.4f}, Test Loss: {:.4f}\".format(loss.item(), test_loss.item()))\n",
    "        print(\"=\"*80)"
   ]
  },
  {
   "cell_type": "code",
   "execution_count": 170,
   "metadata": {},
   "outputs": [
    {
     "data": {
      "image/png": "[encoded data removed]",
      "text/plain": [
       "<Figure size 1200x600 with 1 Axes>"
      ]
     },
     "metadata": {},
     "output_type": "display_data"
    }
   ],
   "source": [
    "'''\n",
    "    Plot the training and testing losses over epochs\n",
    "'''\n",
    "\n",
    "plt.figure(figsize=(12, 6))\n",
    "\n",
    "plt.subplot(1, 2, 1)\n",
    "plt.plot(train_losses, label='Train Loss')\n",
    "plt.plot(test_losses, label='Test Loss')\n",
    "plt.title('Training and Test Loss over Epochs')\n",
    "plt.xlabel('Epoch')\n",
    "plt.ylabel('Loss')\n",
    "plt.legend()\n",
    "plt.grid(True)\n",
    "\n",
    "plt.tight_layout()\n",
    "plt.show()"
   ]
  },
  {
   "cell_type": "code",
   "execution_count": 171,
   "metadata": {},
   "outputs": [],
   "source": [
    "'''\n",
    "    Save the model to a file\n",
    "'''\n",
    "\n",
    "torch.save(model.state_dict(), 'market_risk_lstm.pth')"
   ]
  },
  {
   "cell_type": "markdown",
   "metadata": {},
   "source": [
    "## Using the Model by the users"
   ]
  },
  {
   "cell_type": "code",
   "execution_count": 180,
   "metadata": {},
   "outputs": [],
   "source": [
    "model_path = 'market_risk_lstm.pth'"
   ]
  },
  {
   "cell_type": "code",
   "execution_count": 181,
   "metadata": {},
   "outputs": [],
   "source": [
    "def preprocess_input(data, scaler):\n",
    "    imputer = SimpleImputer(strategy='mean')\n",
    "    data = imputer.fit_transform(data)\n",
    "    \n",
    "    data = scaler.transform(data)\n",
    "    data = torch.tensor(data, dtype=torch.float32)\n",
    "    return data"
   ]
  },
  {
   "cell_type": "code",
   "execution_count": 182,
   "metadata": {},
   "outputs": [],
   "source": [
    "'''\n",
    "    Transfer the model state dict to the new model\n",
    "    Args:\n",
    "        model: New model\n",
    "        state_dict: Model state dict\n",
    "    Returns:\n",
    "        New model with transferred state dict\n",
    "'''\n",
    "\n",
    "model = MarketRiskLSTM(input_size, hidden_size=hidden_size, output_size=1, num_layers=num_layers, dropout_rate=dropout_rate)\n",
    "state_dict = torch.load(model_path, map_location=torch.device('cuda'))"
   ]
  },
  {
   "cell_type": "code",
   "execution_count": 183,
   "metadata": {},
   "outputs": [],
   "source": [
    "'''\n",
    "    Handle different model architectures by transferring compatible layers\n",
    "    Args:\n",
    "        model: New model\n",
    "        state_dict: Model state dict\n",
    "    Returns:\n",
    "        New model with transferred state dict\n",
    "'''\n",
    "\n",
    "model_state_dict = model.state_dict()\n",
    "for name, param in state_dict.items():\n",
    "    if name in model_state_dict:\n",
    "        if param.shape == model_state_dict[name].shape:\n",
    "            model_state_dict[name] = param"
   ]
  },
  {
   "cell_type": "code",
   "execution_count": 184,
   "metadata": {},
   "outputs": [
    {
     "data": {
      "text/plain": [
       "MarketRiskLSTM(\n",
       "  (lstm): LSTM(8, 1, num_layers=100, batch_first=True, dropout=0.2)\n",
       "  (fc): Linear(in_features=1, out_features=1, bias=True)\n",
       "  (relu): ReLU()\n",
       "  (dropout): Dropout(p=0.2, inplace=False)\n",
       "  (batch_norm): BatchNorm1d(1, eps=1e-05, momentum=0.1, affine=True, track_running_stats=True)\n",
       ")"
      ]
     },
     "execution_count": 184,
     "metadata": {},
     "output_type": "execute_result"
    }
   ],
   "source": [
    "model.load_state_dict(model_state_dict)\n",
    "model.eval()"
   ]
  },
  {
   "cell_type": "code",
   "execution_count": 192,
   "metadata": {},
   "outputs": [
    {
     "name": "stdout",
     "output_type": "stream",
     "text": [
      "Enter values for the following features:\n"
     ]
    }
   ],
   "source": [
    "'''\n",
    "    User input for prediction\n",
    "    Args:\n",
    "        features: List of features\n",
    "    Returns:\n",
    "        User input values\n",
    "'''\n",
    "\n",
    "print(\"Enter values for the following features:\")\n",
    "user_input = []\n",
    "for feature in features:\n",
    "    value = float(input(f\"{feature}: \"))\n",
    "    user_input.append(value)"
   ]
  },
  {
   "cell_type": "code",
   "execution_count": 193,
   "metadata": {},
   "outputs": [],
   "source": [
    "'''\n",
    "    Preprocess the user input for prediction\n",
    "    Args:\n",
    "        user_input: User input values\n",
    "        scaler: MinMaxScaler object\n",
    "    Returns:\n",
    "        Processed user input\n",
    "'''\n",
    "\n",
    "user_input = pd.DataFrame([user_input], columns=features)\n",
    "user_input_processed = preprocess_input(user_input.values, scaler)"
   ]
  },
  {
   "cell_type": "code",
   "execution_count": 194,
   "metadata": {},
   "outputs": [
    {
     "name": "stdout",
     "output_type": "stream",
     "text": [
      "\n",
      "Predicted Risk Percentage: 39.50\n"
     ]
    }
   ],
   "source": [
    "'''\n",
    "    Predict the risk percentage\n",
    "    Args:\n",
    "        user_input_processed: Processed user input\n",
    "    Returns:\n",
    "        Predicted risk percentage\n",
    "'''\n",
    "\n",
    "with torch.no_grad():\n",
    "    output = model(user_input_processed.unsqueeze(0)).item()\n",
    "\n",
    "print(f\"\\nPredicted Risk Percentage: {output:.2f}\")"
   ]
  }
 ],
 "metadata": {
  "kernelspec": {
   "display_name": "Python 3",
   "language": "python",
   "name": "python3"
  },
  "language_info": {
   "codemirror_mode": {
    "name": "ipython",
    "version": 3
   },
   "file_extension": ".py",
   "mimetype": "text/x-python",
   "name": "python",
   "nbconvert_exporter": "python",
   "pygments_lexer": "ipython3",
   "version": "3.9.0"
  }
 },
 "nbformat": 4,
 "nbformat_minor": 2
}
