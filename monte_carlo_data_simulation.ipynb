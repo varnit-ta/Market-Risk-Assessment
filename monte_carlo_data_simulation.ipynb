{
 "cells": [
  {
   "cell_type": "code",
   "execution_count": 6,
   "metadata": {},
   "outputs": [],
   "source": [
    "import numpy as np\n",
    "import pandas as pd"
   ]
  },
  {
   "cell_type": "code",
   "execution_count": 7,
   "metadata": {},
   "outputs": [
    {
     "name": "stdout",
     "output_type": "stream",
     "text": [
      "   Volatility      Beta  Market Cap  P/E Ratio  Dividend Yield  Current Ratio  \\\n",
      "0   12.155484  1.044625  187.582789  19.969194        0.100154       3.865255   \n",
      "1    9.496405  1.114994  475.381796  11.952728        0.167326       1.718277   \n",
      "2    3.232609  1.053687  366.130974  18.859239        0.106049       2.259586   \n",
      "3    6.605692  0.754644  299.529913  16.920668        0.118199       4.113619   \n",
      "4   -1.184044  0.888501   78.431311   5.047968        0.396199       2.029112   \n",
      "\n",
      "   52 Week High  52 Week Low  Risk Percentage  \n",
      "0    187.908781   132.815318        12.697927  \n",
      "1    513.517653   390.835091        10.588435  \n",
      "2    372.436490   273.962899         3.406158  \n",
      "3    321.238516   242.049390         4.984948  \n",
      "4     86.270587    63.233080        -1.052024  \n"
     ]
    }
   ],
   "source": [
    "num_simulations = 15000\n",
    "\n",
    "np.random.seed(42)\n",
    "\n",
    "# Base for Market Cap (in billions)\n",
    "market_cap_base = np.random.uniform(0.5, 500, num_simulations)  # range $0.5 billion to $500 billion\n",
    "\n",
    "# Volatility (annualized standard deviation of returns, in percentage)\n",
    "volatility = np.random.normal(0.02 * market_cap_base, 5)  # higher market cap, potentially lower volatility\n",
    "\n",
    "# Beta (a measure of a stock's volatility in relation to the market)\n",
    "beta = np.random.normal(1, 0.1, num_simulations)  # assuming beta is normally distributed around 1\n",
    "\n",
    "# P/E Ratio (Price/Earnings ratio)\n",
    "pe_ratio = np.random.normal(20, 5, num_simulations)  # centered around 20, with some variation\n",
    "\n",
    "# Dividend Yield (in percentage, assuming it is inversely related to P/E ratio)\n",
    "dividend_yield = np.clip(2 / pe_ratio, 0, 10)  # capping the yield between 0% and 10%\n",
    "\n",
    "# Current Ratio (liquidity ratio, current assets / current liabilities, randomly generated)\n",
    "current_ratio = np.random.uniform(0.5, 5, num_simulations)  # range 0.5 to 5\n",
    "\n",
    "# 52 Week High and Low (normalized around current market cap with some fluctuation)\n",
    "week_52_high = market_cap_base * np.random.uniform(0.9, 1.1, num_simulations)\n",
    "week_52_low = market_cap_base * np.random.uniform(0.7, 0.9, num_simulations)\n",
    "\n",
    "# Risk Percentage (derived from volatility and beta, in percentage)\n",
    "risk_percentage = volatility * beta  # simplified risk percentage\n",
    "\n",
    "data = {\n",
    "    'Volatility': volatility,\n",
    "    'Beta': beta,\n",
    "    'Market Cap': market_cap_base,\n",
    "    'P/E Ratio': pe_ratio,\n",
    "    'Dividend Yield': dividend_yield,\n",
    "    'Current Ratio': current_ratio,\n",
    "    '52 Week High': week_52_high,\n",
    "    '52 Week Low': week_52_low,\n",
    "    'Risk Percentage': risk_percentage\n",
    "}\n",
    "\n",
    "df = pd.DataFrame(data)\n",
    "print(df.head())\n",
    "\n",
    "df.to_csv('monte_carlo_data.csv', index=False)"
   ]
  }
 ],
 "metadata": {
  "kernelspec": {
   "display_name": "Python 3",
   "language": "python",
   "name": "python3"
  },
  "language_info": {
   "codemirror_mode": {
    "name": "ipython",
    "version": 3
   },
   "file_extension": ".py",
   "mimetype": "text/x-python",
   "name": "python",
   "nbconvert_exporter": "python",
   "pygments_lexer": "ipython3",
   "version": "3.9.0"
  }
 },
 "nbformat": 4,
 "nbformat_minor": 2
}
