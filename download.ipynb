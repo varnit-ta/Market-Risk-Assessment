{
 "cells": [
  {
   "cell_type": "code",
   "execution_count": 7,
   "metadata": {},
   "outputs": [
    {
     "data": {
      "text/plain": [
       "'\\n    The sole purpose of this file is to download the data\\n    from yahoo finance and save it to a csv file.\\n'"
      ]
     },
     "execution_count": 7,
     "metadata": {},
     "output_type": "execute_result"
    }
   ],
   "source": [
    "'''\n",
    "    The sole purpose of this file is to download the data\n",
    "    from yahoo finance and save it to a csv file.\n",
    "'''"
   ]
  },
  {
   "cell_type": "code",
   "execution_count": 8,
   "metadata": {},
   "outputs": [],
   "source": [
    "import yfinance as yf\n",
    "import pandas as pd\n",
    "import numpy as np\n",
    "from tqdm import tqdm"
   ]
  },
  {
   "cell_type": "code",
   "execution_count": 9,
   "metadata": {},
   "outputs": [],
   "source": [
    "'''\n",
    "    List of SP500 and international stocks\n",
    "    You can add more stocks to the list\n",
    "'''\n",
    "\n",
    "sp500_tickers = ['MMM', 'AOS', 'ABT', 'ABBV', 'ACN', 'ATVI', 'ADM', 'ADBE', 'AAP', 'AMD', 'AES', 'AFL', 'A', 'APD', 'AKAM', 'ALK', 'ALB', 'ARE', 'ALGN', 'ALLE', 'LNT', 'ALL', 'GOOGL', 'GOOG', 'MO', 'AMZN', 'AMCR', 'AEE', 'AAL', 'AEP', 'AXP', 'AIG', 'AMT', 'AWK', 'AMP', 'ABC', 'AME', 'AMGN', 'APH', 'ADI', 'ANSS', 'ANTM', 'AON', 'APA', 'AAPL', 'AMAT', 'APTV', 'ANET', 'AJG', 'AIZ', 'T', 'ATO', 'ADSK', 'ADP', 'AZO', 'AVB', 'AVY', 'BKR', 'BLL', 'BAC', 'BBWI', 'BAX', 'BDX', 'BRK.B', 'BBY', 'BIO', 'TECH', 'BIIB', 'BLK', 'BK', 'BA', 'BKNG', 'BWA', 'BXP', 'BSX', 'BMY', 'AVGO', 'BR', 'BRO', 'BF.B', 'CHRW', 'CDNS', 'CZR', 'CPB', 'COF', 'CAH', 'KMX', 'CCL', 'CARR', 'CTLT', 'CAT', 'CBOE', 'CBRE', 'CDW', 'CE', 'CNC', 'CNP', 'CERN', 'CF', 'CRL', 'SCHW', 'CHTR', 'CVX', 'CMG', 'CB', 'CHD', 'CI', 'CINF', 'CTAS', 'CSCO', 'C', 'CFG', 'CTXS', 'CLX', 'CME', 'CMS', 'KO', 'CTSH', 'CL', 'CMCSA', 'CMA', 'CAG', 'COP', 'ED', 'STZ', 'CPRT', 'GLW', 'CTVA', 'COST', 'CTRA', 'CCI', 'CSX', 'CMI', 'CVS', 'DHI', 'DHR', 'DRI', 'DVA', 'DE', 'DAL', 'XRAY', 'DVN', 'DXCM', 'FANG', 'DLR', 'DFS', 'DISCA', 'DISCK', 'DISH', 'DG', 'DLTR', 'D', 'DPZ', 'DOV', 'DOW', 'DTE', 'DUK', 'DRE', 'DD', 'DXC', 'EMN', 'ETN', 'EBAY', 'ECL', 'EIX', 'EW', 'EA', 'LLY', 'EMR', 'ENPH', 'ETR', 'EOG', 'EFX', 'EQIX', 'EQR', 'ESS', 'EL', 'ETSY', 'RE', 'EVRG', 'ES', 'EXC', 'EXPE', 'EXPD', 'EXR', 'XOM', 'FFIV', 'FB', 'FAST', 'FRT', 'FDX', 'FIS', 'FITB', 'FRC', 'FE', 'FISV', 'FLT', 'FMC', 'F', 'FTNT', 'FTV', 'FBHS', 'FOXA', 'FOX', 'BEN', 'FCX', 'GPS', 'GRMN', 'IT', 'GNRC', 'GD', 'GE', 'GIS', 'GM', 'GPC', 'GILD', 'GPN', 'GL', 'GS', 'HAL', 'HBI', 'HAS', 'HCA', 'PEAK', 'HSIC', 'HES', 'HPE', 'HLT', 'HOLX', 'HD', 'HON', 'HRL', 'HST', 'HWM', 'HPQ', 'HUM', 'HBAN', 'HII', 'IBM', 'IEX', 'IDXX', 'INFO', 'ITW', 'ILMN', 'INCY', 'IR', 'INTC', 'ICE', 'IFF', 'IP', 'IPG', 'INTU', 'ISRG', 'IVZ', 'IPGP', 'IQV', 'IRM', 'JBHT', 'JKHY', 'J', 'SJM', 'JNJ', 'JCI', 'JPM', 'JNPR', 'KSU', 'K', 'KEY', 'KEYS', 'KMB', 'KIM', 'KMI', 'KLAC', 'KHC', 'KR', 'LHX', 'LH', 'LRCX', 'LW', 'LVS', 'LEG', 'LDOS', 'LEN', 'LNC', 'LIN', 'LYV', 'LKQ', 'LMT', 'L', 'LOW', 'LUMN', 'LYB', 'MTB', 'MRO', 'MPC', 'MKTX', 'MAR', 'MMC', 'MLM', 'MAS', 'MA', 'MTCH', 'MKC', 'MCD', 'MCK', 'MDT', 'MRK', 'MET', 'MTD', 'MGM', 'MCHP', 'MU', 'MSFT', 'MAA', 'MRNA', 'MHK', 'TAP', 'MDLZ', 'MPWR', 'MNST', 'MCO', 'MS', 'MSI', 'MSCI', 'NDAQ', 'NTAP', 'NFLX', 'NWL', 'NEM', 'NWSA', 'NWS', 'NEE', 'NLSN', 'NKE', 'NI', 'NSC', 'NTRS', 'NOC', 'NLOK', 'NCLH', 'NRG', 'NUE', 'NVDA', 'NVR', 'NXPI', 'ORLY', 'OXY', 'ODFL', 'OMC', 'OKE', 'ORCL', 'OTIS', 'PCAR', 'PKG', 'PH', 'PAYX', 'PAYC', 'PYPL', 'PENN', 'PNR', 'PBCT', 'PEP', 'PKI', 'PFE', 'PM', 'PSX', 'PNW', 'PXD', 'PNC', 'POOL', 'PPG', 'PPL', 'PFG', 'PG', 'PGR', 'PLD', 'PRU', 'PTC', 'PEG', 'PSA', 'PHM', 'PVH', 'QRVO', 'QCOM', 'PWR', 'DGX', 'RL', 'RJF', 'RTX', 'O', 'REG', 'REGN', 'RF', 'RSG', 'RMD', 'RHI', 'ROK', 'ROL', 'ROP', 'ROST', 'RCL', 'SPGI', 'CRM', 'SBAC', 'SLB', 'STX', 'SEE', 'SRE', 'NOW', 'SHW', 'SPG', 'SWKS', 'SNA', 'SO', 'LUV', 'SWK', 'SBUX', 'STT', 'STE', 'SYK', 'SIVB', 'SYF', 'SNPS', 'SYY', 'TMUS', 'TROW', 'TTWO', 'TPR', 'TGT', 'TEL', 'TDY', 'TFX', 'TER', 'TSLA', 'TXN', 'TXT', 'COO', 'HIG', 'HSY', 'MOS', 'TRV', 'DIS', 'TMO', 'TJX', 'TSCO', 'TT', 'TDG', 'TRMB', 'TFC', 'TWTR', 'TYL', 'TSN', 'USB', 'UDR', 'ULTA', 'UAA', 'UA', 'UNP', 'UAL', 'UPS', 'URI', 'UNH', 'UHS', 'VLO', 'VTR', 'VRSN', 'VRSK', 'VZ', 'VRTX', 'VFC', 'VIAC', 'VTRS', 'V', 'VNO', 'VMC', 'WRB', 'GWW', 'WAB', 'WBA', 'WMT', 'WM', 'WAT', 'WEC', 'WFC', 'WELL', 'WST', 'WDC', 'WU', 'WRK', 'WY', 'WHR', 'WMB', 'WLTW', 'WYNN', 'XEL', 'XLNX', 'XYL', 'YUM', 'ZBRA', 'ZBH', 'ZION', 'ZTS']\n",
    "\n",
    "high_risk_tickers = ['TSLA', 'NIO', 'GME', 'AMC', 'BYND', 'NKLA', 'PLTR', 'SQ', 'RIDE', 'SPCE','MARA', 'RKT', 'FUBO', 'WISH', 'PENN', 'HOOD', 'BBBY', 'ZNGA', 'QS', 'FCEL','XPEV', 'LI', 'LCID', 'SOFI', 'ROKU', 'COIN', 'BMBL', 'DASH', 'SNOW', 'UPST', 'SE', 'BILI', 'JD', 'PDD', 'SHOP', 'PYPL', 'ETSY', 'TWLO', 'DOCU', 'PTON', 'U', 'SNAP', 'ZM', 'NVDA', 'AMD', 'MU', 'INTC', 'MRNA', 'BNTX', 'NVAX', 'REGN', 'VRTX', 'CRSP', 'EDIT', 'NTLA', 'BEAM', 'ARKK', 'ARKG', 'ARKF', 'ARKW', 'ARKQ', 'SPY', 'QQQ', 'DIA', 'IWM', 'VXX', 'UVXY', 'SQQQ', 'TQQQ', 'SOXL', 'LABU', 'NUGT', 'JNUG', 'DUST', 'JDST', 'TNA', 'FAZ', 'FAS', 'TECL', 'SOXS', 'LABD', 'SDOW', 'UDOW', 'TZA', 'TBT', 'TMF', 'SH', 'DOG', 'PSQ', 'RWM', 'HDGE', 'MLCO', 'LVS', 'WYNN', 'MGM', 'CZR', 'PENN', 'DKNG', 'RSI', 'GAN', 'ACCD', 'AFRM', 'AGC', 'AI', 'ALIT', 'APPS', 'ATER', 'BB', 'BBIG', 'BFLY', 'BLNK', 'BNTX', 'BOWL', 'BRPM', 'BTRS', 'BUD', 'CCIV', 'CCL', 'CHPT', 'CLSK', 'CMCL', 'COCP', 'CRBP', 'CTRM', 'CYDY', 'DPW', 'EBON', 'EXPI', 'FCEL', 'FRSX', 'FTFT', 'FUBO', 'GILT', 'GNUS', 'GRWG', 'HYLN', 'IBIO', 'IDEX', 'INO', 'IPOC', 'ITRM', 'JAGX', 'JMIA', 'KNDI', 'KXIN', 'LI', 'LMND', 'LPCN', 'MARA', 'MDRR', 'METX', 'MOGO', 'NCTY', 'NIO', 'NKLA', 'NNDM', 'NNVC', 'NOVN', 'NTEC', 'NVAX', 'OBLN', 'OCGN', 'OPGN', 'ORGO', 'OSUR', 'OXBR', 'PHUN', 'PLUG', 'POLA', 'PRPO', 'RBLX', 'RCMT', 'RIOT', 'RKT', 'RWLK', 'SAVA', 'SHIP', 'SLS', 'SNAP', 'SNMP', 'SNDL', 'SOL', 'SONN', 'SOS', 'SPCE', 'SPEX', 'SPI', 'SRNE', 'SSPK', 'STAF', 'SUNW', 'SUTI', 'TELL', 'THCB', 'TNXP', 'TOPS', 'TRXC', 'TSNP', 'TTNP', 'TYME', 'UAVS', 'UWMC', 'UXIN', 'VERU', 'VISL', 'VSTM', 'VUZI', 'WBAI', 'WKHS', 'WLL', 'WORX', 'XELA', 'XERS', 'XPEV', 'ZOM', 'ZVO', 'ZKIN', 'ZYNE', 'ZLAB', 'ZYXI', 'ZVO', 'ZOOM', 'ZYNGA', 'ACAD', 'AERI', 'AFMD', 'AGEN', 'AIM', 'ALDX', 'ALGN', 'ALKS','ALNA', 'ALT', 'AMRN', 'ANAB', 'ARCT', 'ARNA', 'ARQL', 'ARWR', 'ASMB', 'ASND','ASRT', 'ATNX', 'ATOS', 'AVXL', 'AXSM', 'BDSI', 'BLCM', 'BLUE', 'BPMC', 'BTAI','CBAY', 'CCXI', 'CLLS', 'CLSD', 'CLVS', 'CNSP', 'COCP', 'CRDF', 'CRMD', 'CRVS','CTIC', 'CYCC', 'CYTK', 'DARE', 'DERM', 'DRRX', 'EARS', 'ECYT', 'EIGR', 'ELOX','ENTA', 'EPIX', 'ETNB', 'EXEL', 'FATE', 'FBIO', 'FENC', 'FGEN', 'FLXN', 'FOLD','GALT', 'GILD', 'GLPG', 'GMDA', 'GOSS', 'GRTS', 'GTHX', 'HALO', 'HCM', 'HRTX','IDRA', 'IMMP', 'IMUX', 'INFI', 'INO', 'INSM', 'IOVA', 'ITCI', 'JNCE', 'KALA','KDMN', 'KNSA', 'KPTI', 'KRYS', 'KURA', 'LIFE', 'LXRX', 'MCRB', 'MDGL', 'MESO','MGTX', 'MITO', 'MRSN', 'MRTX', 'MTEM', 'MYOV', 'NAII', 'NBIX', 'NBRV', 'NERV','NLNK', 'NVCR', 'NXTC', 'OCUL', 'ONCY', 'ONTX', 'OPGN', 'OPK', 'ORTX', 'OTLK','OVID', 'PACB', 'PBYI', 'PDSB', 'PIRS', 'PRQR', 'PRTA', 'PRVB', 'PTCT', 'RIGL','RMTI', 'RNN', 'RTRX', 'RVNC', 'RXDX', 'SAVA', 'SBBP', 'SGEN', 'SGMO', 'SNCA','SRPT', 'SWTX', 'SYBX', 'SYN', 'TCON', 'TCRR', 'THLD', 'TNXP', 'TRIL', 'TRVN','TSHA', 'TTNP', 'TTOO', 'TUP', 'TXMD', 'TYME', 'UBX', 'UROV', 'VBLT', 'VBIV','VCEL', 'VECT', 'VIR', 'VKTX', 'VSTM', 'VYGR', 'WSTL', 'XAIR', 'XBIT', 'XBIO','XERS', 'XTNT', 'YMTX', 'ZFGN', 'ZIOP', 'ZYME']\n",
    "\n",
    "\n",
    "international_tickers = ['BABA', 'TCEHY', 'TM', 'NSANY', 'SNE', 'HMC', 'MSBHY', 'PNGAY', 'RNECY', 'VWAGY']\n",
    "\n",
    "all_tickers = sp500_tickers + international_tickers + high_risk_tickers"
   ]
  },
  {
   "cell_type": "code",
   "execution_count": 10,
   "metadata": {},
   "outputs": [
    {
     "name": "stderr",
     "output_type": "stream",
     "text": [
      "Fetching stock data:   0%|          | 0/899 [00:00<?, ?it/s]"
     ]
    },
    {
     "name": "stderr",
     "output_type": "stream",
     "text": [
      "Fetching stock data:   1%|          | 5/899 [00:08<21:46,  1.46s/it]$ATVI: possibly delisted; No timezone found\n",
      "Fetching stock data:   4%|▍         | 35/899 [00:49<21:08,  1.47s/it]$ABC: possibly delisted; No timezone found\n",
      "Fetching stock data:   5%|▍         | 41/899 [00:59<21:08,  1.48s/it]$ANTM: possibly delisted; No timezone found\n",
      "Fetching stock data:   6%|▋         | 58/899 [01:21<17:54,  1.28s/it]$BLL: possibly delisted; No timezone found\n",
      "Fetching stock data:   7%|▋         | 63/899 [01:29<20:07,  1.44s/it]$BRK.B: possibly delisted; No timezone found\n",
      "Fetching stock data:   9%|▉         | 79/899 [01:51<16:54,  1.24s/it]$BF.B: possibly delisted; No price data found  (1d 2023-01-01 -> 2024-07-07)\n",
      "Fetching stock data:   9%|▉         | 80/899 [01:51<12:56,  1.06it/s]"
     ]
    },
    {
     "name": "stdout",
     "output_type": "stream",
     "text": [
      "$BF.B: possibly delisted; No price data found  (1d 2023-01-01 -> 2024-07-07)\n"
     ]
    },
    {
     "name": "stderr",
     "output_type": "stream",
     "text": [
      "Fetching stock data:  11%|█         | 97/899 [02:13<17:47,  1.33s/it]$CERN: possibly delisted; No timezone found\n",
      "Fetching stock data:  12%|█▏        | 112/899 [02:35<17:51,  1.36s/it]$CTXS: possibly delisted; No timezone found\n",
      "Fetching stock data:  16%|█▌        | 146/899 [03:20<15:49,  1.26s/it]$DISCA: possibly delisted; No timezone found\n",
      "Fetching stock data:  16%|█▋        | 147/899 [03:22<18:16,  1.46s/it]$DISCK: possibly delisted; No timezone found\n",
      "Fetching stock data:  16%|█▋        | 148/899 [03:25<21:43,  1.74s/it]$DISH: possibly delisted; No timezone found\n",
      "Fetching stock data:  17%|█▋        | 157/899 [03:37<16:04,  1.30s/it]$DRE: possibly delisted; No timezone found\n",
      "Fetching stock data:  20%|█▉        | 178/899 [04:04<15:25,  1.28s/it]$RE: possibly delisted; No timezone found\n",
      "Fetching stock data:  21%|██        | 187/899 [04:17<14:43,  1.24s/it]$FB: possibly delisted; No timezone found\n",
      "Fetching stock data:  21%|██▏       | 193/899 [04:27<16:25,  1.40s/it]$FRC: possibly delisted; No timezone found\n",
      "Fetching stock data:  22%|██▏       | 196/899 [04:32<17:39,  1.51s/it]$FLT: possibly delisted; No timezone found\n",
      "Fetching stock data:  22%|██▏       | 201/899 [04:40<16:00,  1.38s/it]$FBHS: possibly delisted; No timezone found\n",
      "Fetching stock data:  25%|██▍       | 223/899 [05:11<15:04,  1.34s/it]$PEAK: possibly delisted; No timezone found\n",
      "Fetching stock data:  27%|██▋       | 241/899 [05:35<13:43,  1.25s/it]$INFO: possibly delisted; No timezone found\n",
      "Fetching stock data:  29%|██▉       | 265/899 [06:08<14:08,  1.34s/it]$KSU: possibly delisted; No timezone found\n",
      "Fetching stock data:  37%|███▋      | 332/899 [07:37<11:58,  1.27s/it]$NLSN: possibly delisted; No timezone found\n",
      "Fetching stock data:  38%|███▊      | 338/899 [07:46<12:55,  1.38s/it]$NLOK: possibly delisted; No timezone found\n",
      "Fetching stock data:  40%|████      | 360/899 [08:15<11:11,  1.25s/it]$PBCT: possibly delisted; No timezone found\n",
      "Fetching stock data:  40%|████      | 362/899 [08:19<13:31,  1.51s/it]$PKI: possibly delisted; No timezone found\n",
      "Fetching stock data:  41%|████      | 367/899 [08:27<12:34,  1.42s/it]$PXD: possibly delisted; No timezone found\n",
      "Fetching stock data:  47%|████▋     | 420/899 [09:38<10:20,  1.29s/it]SIVB: Period '1mo' is invalid, must be one of ['1d', '5d']\n",
      "Fetching stock data:  50%|████▉     | 449/899 [10:17<10:28,  1.40s/it]$TWTR: possibly delisted; No timezone found\n",
      "Fetching stock data:  52%|█████▏    | 470/899 [10:46<08:49,  1.23s/it]$VIAC: possibly delisted; No timezone found\n",
      "Fetching stock data:  55%|█████▍    | 492/899 [11:18<08:35,  1.27s/it]$WLTW: possibly delisted; No timezone found\n",
      "Fetching stock data:  55%|█████▌    | 495/899 [11:23<10:41,  1.59s/it]$XLNX: possibly delisted; No timezone found\n",
      "Fetching stock data:  56%|█████▋    | 506/899 [11:39<07:53,  1.20s/it]$SNE: possibly delisted; No timezone found\n",
      "Fetching stock data:  57%|█████▋    | 508/899 [11:45<11:39,  1.79s/it]$MSBHY: possibly delisted; No timezone found\n",
      "Fetching stock data:  58%|█████▊    | 520/899 [12:02<08:06,  1.28s/it]RIDE: Period '1mo' is invalid, must be one of ['1d', '5d']\n",
      "Fetching stock data:  59%|█████▊    | 528/899 [12:11<07:40,  1.24s/it]$BBBY: possibly delisted; No timezone found\n",
      "Fetching stock data:  59%|█████▉    | 529/899 [12:15<12:51,  2.08s/it]$ZNGA: possibly delisted; No timezone found\n",
      "Fetching stock data:  68%|██████▊   | 614/899 [14:05<05:47,  1.22s/it]$AGC: possibly delisted; No timezone found\n",
      "Fetching stock data:  70%|██████▉   | 625/899 [14:20<05:43,  1.25s/it]$BRPM: possibly delisted; No timezone found\n",
      "Fetching stock data:  70%|██████▉   | 626/899 [14:24<08:12,  1.80s/it]$BTRS: possibly delisted; No timezone found\n",
      "Fetching stock data:  70%|██████▉   | 628/899 [14:27<07:52,  1.74s/it]$CCIV: possibly delisted; No timezone found\n",
      "Fetching stock data:  71%|███████   | 637/899 [14:39<04:57,  1.13s/it]$DPW: possibly delisted; No timezone found\n",
      "Fetching stock data:  72%|███████▏  | 645/899 [14:51<05:04,  1.20s/it]$GNUS: possibly delisted; No timezone found\n",
      "Fetching stock data:  72%|███████▏  | 651/899 [14:59<05:11,  1.26s/it]$IPOC: possibly delisted; No timezone found\n",
      "Fetching stock data:  74%|███████▎  | 662/899 [15:14<04:54,  1.24s/it]$METX: possibly delisted; No timezone found\n",
      "Fetching stock data:  74%|███████▍  | 669/899 [15:40<13:01,  3.40s/it]$NOVN: possibly delisted; No timezone found\n",
      "Fetching stock data:  75%|███████▍  | 670/899 [15:42<11:59,  3.14s/it]$NTEC: possibly delisted; No timezone found\n",
      "Fetching stock data:  75%|███████▍  | 672/899 [15:47<09:45,  2.58s/it]$OBLN: possibly delisted; No timezone found\n",
      "Fetching stock data:  76%|███████▋  | 686/899 [16:04<04:15,  1.20s/it]$RWLK: possibly delisted; No timezone found\n",
      "Fetching stock data:  77%|███████▋  | 691/899 [16:12<04:38,  1.34s/it]$SNMP: possibly delisted; No timezone found\n",
      "Fetching stock data:  78%|███████▊  | 697/899 [16:21<04:15,  1.27s/it]$SPEX: possibly delisted; No timezone found\n",
      "Fetching stock data:  78%|███████▊  | 700/899 [16:26<04:48,  1.45s/it]$SSPK: possibly delisted; No timezone found\n",
      "Fetching stock data:  78%|███████▊  | 702/899 [16:30<05:11,  1.58s/it]$SUNW: possibly delisted; No timezone found\n",
      "Fetching stock data:  78%|███████▊  | 705/899 [16:35<05:05,  1.58s/it]$THCB: possibly delisted; No timezone found\n",
      "Fetching stock data:  79%|███████▉  | 708/899 [16:41<05:04,  1.59s/it]$TRXC: possibly delisted; No timezone found\n",
      "Fetching stock data:  79%|███████▉  | 709/899 [16:44<06:27,  2.04s/it]$TSNP: possibly delisted; No timezone found\n",
      "Fetching stock data:  79%|███████▉  | 711/899 [16:48<06:17,  2.01s/it]$TYME: possibly delisted; No timezone found\n",
      "Fetching stock data:  80%|███████▉  | 719/899 [16:59<03:49,  1.27s/it]$WBAI: possibly delisted; No timezone found\n",
      "Fetching stock data:  80%|████████  | 721/899 [17:03<04:35,  1.55s/it]$WLL: possibly delisted; No timezone found\n",
      "Fetching stock data:  81%|████████  | 727/899 [17:11<03:30,  1.22s/it]$ZVO: possibly delisted; No timezone found\n",
      "Fetching stock data:  81%|████████  | 729/899 [17:15<04:24,  1.55s/it]$ZYNE: possibly delisted; No timezone found\n",
      "Fetching stock data:  81%|████████▏ | 732/899 [17:19<03:41,  1.33s/it]$ZVO: possibly delisted; No timezone found\n",
      "$ZOOM: possibly delisted; No timezone found\n",
      "Fetching stock data:  82%|████████▏ | 734/899 [17:22<03:48,  1.38s/it]$ZYNGA: possibly delisted; No timezone found\n",
      "Fetching stock data:  82%|████████▏ | 736/899 [17:27<05:05,  1.87s/it]$AERI: possibly delisted; No timezone found\n",
      "Fetching stock data:  83%|████████▎ | 743/899 [17:37<03:16,  1.26s/it]$ALNA: possibly delisted; No timezone found\n",
      "Fetching stock data:  83%|████████▎ | 748/899 [17:45<03:23,  1.35s/it]$ARNA: possibly delisted; No timezone found\n",
      "Fetching stock data:  83%|████████▎ | 749/899 [17:47<04:28,  1.79s/it]$ARQL: possibly delisted; No timezone found\n",
      "Fetching stock data:  84%|████████▍ | 754/899 [17:55<03:17,  1.37s/it]$ATNX: possibly delisted; No timezone found\n",
      "Fetching stock data:  84%|████████▍ | 758/899 [18:01<03:12,  1.37s/it]$BDSI: possibly delisted; No price data found  (1d 2023-01-01 -> 2024-07-07)\n",
      "Fetching stock data:  84%|████████▍ | 759/899 [18:01<02:31,  1.08s/it]"
     ]
    },
    {
     "name": "stdout",
     "output_type": "stream",
     "text": [
      "$BDSI: possibly delisted; No price data found  (1d 2023-01-01 -> 2024-07-07)\n"
     ]
    },
    {
     "name": "stderr",
     "output_type": "stream",
     "text": [
      "$BLCM: possibly delisted; No timezone found\n",
      "Fetching stock data:  85%|████████▍ | 763/899 [18:08<03:08,  1.39s/it]$CBAY: possibly delisted; No timezone found\n",
      "Fetching stock data:  85%|████████▍ | 764/899 [18:10<03:54,  1.73s/it]$CCXI: possibly delisted; No timezone found\n",
      "Fetching stock data:  85%|████████▌ | 767/899 [18:27<11:31,  5.24s/it]$CLVS: possibly delisted; No timezone found\n",
      "Fetching stock data:  86%|████████▌ | 773/899 [18:35<03:34,  1.70s/it]$CTIC: possibly delisted; No timezone found\n",
      "Fetching stock data:  87%|████████▋ | 779/899 [18:44<02:45,  1.38s/it]$EARS: possibly delisted; No timezone found\n",
      "Fetching stock data:  87%|████████▋ | 780/899 [18:47<03:30,  1.77s/it]$ECYT: possibly delisted; No price data found  (1d 2023-01-01 -> 2024-07-07)\n",
      "Fetching stock data:  87%|████████▋ | 781/899 [18:47<02:37,  1.33s/it]"
     ]
    },
    {
     "name": "stdout",
     "output_type": "stream",
     "text": [
      "$ECYT: possibly delisted; No price data found  (1d 2023-01-01 -> 2024-07-07)\n"
     ]
    },
    {
     "name": "stderr",
     "output_type": "stream",
     "text": [
      "Fetching stock data:  88%|████████▊ | 791/899 [18:59<02:08,  1.19s/it]$FLXN: possibly delisted; No timezone found\n",
      "Fetching stock data:  89%|████████▉ | 803/899 [19:24<03:35,  2.24s/it]$IDRA: possibly delisted; No timezone found\n",
      "Fetching stock data:  90%|████████▉ | 806/899 [19:29<02:37,  1.70s/it]$INFI: possibly delisted; No timezone found\n",
      "Fetching stock data:  90%|█████████ | 811/899 [19:36<01:51,  1.26s/it]$JNCE: possibly delisted; No timezone found\n",
      "Fetching stock data:  90%|█████████ | 813/899 [19:39<02:00,  1.40s/it]$KDMN: possibly delisted; No timezone found\n",
      "Fetching stock data:  92%|█████████▏| 824/899 [19:53<01:31,  1.22s/it]$MITO: possibly delisted; No timezone found\n",
      "Fetching stock data:  92%|█████████▏| 826/899 [19:57<01:56,  1.59s/it]$MRTX: possibly delisted; No timezone found\n",
      "Fetching stock data:  92%|█████████▏| 828/899 [20:01<01:53,  1.61s/it]$MYOV: possibly delisted; No timezone found\n",
      "Fetching stock data:  92%|█████████▏| 831/899 [20:06<01:50,  1.63s/it]$NBRV: possibly delisted; No timezone found\n",
      "Fetching stock data:  93%|█████████▎| 833/899 [20:10<01:50,  1.68s/it]$NLNK: possibly delisted; No timezone found\n",
      "Fetching stock data:  93%|█████████▎| 838/899 [20:17<01:18,  1.28s/it]$ONTX: possibly delisted; No timezone found\n",
      "Fetching stock data:  93%|█████████▎| 839/899 [20:20<01:57,  1.96s/it]$OPGN: possibly delisted; No price data found  (1d 2023-01-01 -> 2024-07-07)\n",
      "Fetching stock data:  94%|█████████▎| 841/899 [20:35<04:18,  4.46s/it]$ORTX: possibly delisted; No timezone found\n",
      "Fetching stock data:  95%|█████████▍| 850/899 [20:47<01:05,  1.35s/it]$PRVB: possibly delisted; No timezone found\n",
      "Fetching stock data:  95%|█████████▍| 854/899 [20:53<00:57,  1.28s/it]$RNN: possibly delisted; No timezone found\n",
      "Fetching stock data:  95%|█████████▌| 855/899 [20:56<01:18,  1.78s/it]$RTRX: possibly delisted; No timezone found\n",
      "Fetching stock data:  95%|█████████▌| 857/899 [21:00<01:22,  1.96s/it]$RXDX: possibly delisted; No timezone found\n",
      "Fetching stock data:  96%|█████████▌| 859/899 [21:03<01:09,  1.73s/it]$SBBP: possibly delisted; No timezone found\n",
      "Fetching stock data:  96%|█████████▌| 860/899 [21:05<01:11,  1.83s/it]$SGEN: possibly delisted; No timezone found\n",
      "Fetching stock data:  96%|█████████▌| 862/899 [21:09<01:03,  1.72s/it]$SNCA: possibly delisted; No timezone found\n",
      "Fetching stock data:  96%|█████████▋| 866/899 [21:15<00:46,  1.40s/it]$SYN: possibly delisted; No timezone found\n",
      "Fetching stock data:  97%|█████████▋| 868/899 [21:18<00:43,  1.41s/it]$TCRR: possibly delisted; No timezone found\n",
      "Fetching stock data:  97%|█████████▋| 869/899 [21:20<00:47,  1.58s/it]$THLD: possibly delisted; No price data found  (1d 2023-01-01 -> 2024-07-07)\n",
      "Fetching stock data:  97%|█████████▋| 870/899 [21:20<00:34,  1.20s/it]"
     ]
    },
    {
     "name": "stdout",
     "output_type": "stream",
     "text": [
      "$THLD: possibly delisted; No price data found  (1d 2023-01-01 -> 2024-07-07)\n"
     ]
    },
    {
     "name": "stderr",
     "output_type": "stream",
     "text": [
      "Fetching stock data:  97%|█████████▋| 871/899 [21:21<00:32,  1.17s/it]$TRIL: possibly delisted; No timezone found\n",
      "Fetching stock data:  98%|█████████▊| 878/899 [21:32<00:25,  1.24s/it]$TYME: possibly delisted; No timezone found\n",
      "Fetching stock data:  98%|█████████▊| 880/899 [21:35<00:28,  1.48s/it]$UROV: possibly delisted; No timezone found\n",
      "Fetching stock data:  98%|█████████▊| 881/899 [21:38<00:34,  1.93s/it]$VBLT: possibly delisted; No timezone found\n",
      "Fetching stock data:  98%|█████████▊| 884/899 [21:45<00:28,  1.92s/it]$VECT: possibly delisted; No timezone found\n",
      "Fetching stock data: 100%|█████████▉| 895/899 [21:59<00:04,  1.15s/it]$YMTX: possibly delisted; No timezone found\n",
      "Fetching stock data: 100%|█████████▉| 896/899 [22:03<00:05,  1.85s/it]$ZFGN: possibly delisted; No timezone found\n",
      "Fetching stock data: 100%|█████████▉| 897/899 [22:05<00:04,  2.00s/it]$ZIOP: possibly delisted; No timezone found\n",
      "Fetching stock data: 100%|██████████| 899/899 [22:09<00:00,  1.48s/it]"
     ]
    },
    {
     "name": "stdout",
     "output_type": "stream",
     "text": [
      "  Ticker  Volatility      Beta  Risk Percentage    Market Cap  P/E Ratio  \\\n",
      "0    MMM    0.275628  0.970412        50.928382  5.606654e+10       None   \n",
      "1    AOS    0.254402  1.055130        45.888594  1.180400e+10  20.903898   \n",
      "2    ABT    0.189417  0.522517        50.663130  1.809563e+11  32.404984   \n",
      "3   ABBV    0.195789  0.247311        45.888594  2.953418e+11  49.776787   \n",
      "4    ACN    0.231128  1.027500        47.745358  1.873765e+11  27.393774   \n",
      "\n",
      "   Dividend Yield  Current Ratio  52 Week High  52 Week Low  \n",
      "0          0.0276          1.643        106.04     71.36288  \n",
      "1          0.0159          1.654         89.96     64.14000  \n",
      "2          0.0211          1.596        121.64     89.67000  \n",
      "3          0.0371          0.936        182.89    132.70000  \n",
      "4          0.0172          1.157        387.51    278.69000  \n",
      "Dataset shape: (793, 10)\n",
      "Data saved to 'stock_data_large.csv'\n"
     ]
    },
    {
     "name": "stderr",
     "output_type": "stream",
     "text": [
      "\n"
     ]
    }
   ],
   "source": [
    "import yfinance as yf\n",
    "import pandas as pd\n",
    "import time\n",
    "\n",
    "data = []\n",
    "\n",
    "def fetch_stock_data(ticker, start_date, end_date):\n",
    "    try:\n",
    "        stock = yf.Ticker(ticker)\n",
    "        hist = stock.history(start=start_date, end=end_date)\n",
    "        \n",
    "        if hist.empty:\n",
    "            return None\n",
    "        \n",
    "        returns = hist['Close'].pct_change().dropna()\n",
    "        \n",
    "        volatility = returns.std() * np.sqrt(252)\n",
    "        \n",
    "        market = yf.Ticker('^GSPC').history(start=start_date, end=end_date)\n",
    "        market_returns = market['Close'].pct_change().dropna()\n",
    "        covariance = returns.cov(market_returns)\n",
    "        market_variance = market_returns.var()\n",
    "        beta = covariance / market_variance\n",
    "        \n",
    "        risk_percentage = (returns < 0).mean() * 100\n",
    "        \n",
    "        info = stock.info\n",
    "        \n",
    "        return {\n",
    "            'Ticker': ticker,\n",
    "            'Volatility': volatility,\n",
    "            'Beta': beta,\n",
    "            'Market Cap': info.get('marketCap'),\n",
    "            'P/E Ratio': info.get('trailingPE'),\n",
    "            'Dividend Yield': info.get('dividendYield'),\n",
    "            'Current Ratio': info.get('currentRatio'),\n",
    "            '52 Week High': info.get('fiftyTwoWeekHigh'),\n",
    "            '52 Week Low': info.get('fiftyTwoWeekLow'),\n",
    "            'Risk Percentage': risk_percentage\n",
    "        }\n",
    "    except Exception as e:\n",
    "        print(f\"Error fetching data for {ticker}: {str(e)}\")\n",
    "        return None\n",
    "\n",
    "start_date = '2023-01-01'\n",
    "end_date = '2024-07-07'\n",
    "\n",
    "data = []\n",
    "for ticker in tqdm(all_tickers, desc=\"Fetching stock data\"):\n",
    "    stock_data = fetch_stock_data(ticker, start_date, end_date)\n",
    "    if stock_data:\n",
    "        data.append(stock_data)\n",
    "\n",
    "df = pd.DataFrame(data)\n",
    "\n",
    "print(df.head())\n",
    "print(f\"Dataset shape: {df.shape}\")\n",
    "\n",
    "df.to_csv('stock_data_large.csv', index=False)\n",
    "print(\"Data saved to 'stock_data_large.csv'\")"
   ]
  }
 ],
 "metadata": {
  "kernelspec": {
   "display_name": "Python 3",
   "language": "python",
   "name": "python3"
  },
  "language_info": {
   "codemirror_mode": {
    "name": "ipython",
    "version": 3
   },
   "file_extension": ".py",
   "mimetype": "text/x-python",
   "name": "python",
   "nbconvert_exporter": "python",
   "pygments_lexer": "ipython3",
   "version": "3.9.0"
  }
 },
 "nbformat": 4,
 "nbformat_minor": 2
}
