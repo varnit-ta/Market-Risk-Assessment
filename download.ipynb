{
 "cells": [
  {
   "cell_type": "code",
   "execution_count": 17,
   "metadata": {},
   "outputs": [],
   "source": [
    "import yfinance as yf\n",
    "import pandas as pd\n",
    "import numpy as np\n",
    "from tqdm import tqdm"
   ]
  },
  {
   "cell_type": "code",
   "execution_count": null,
   "metadata": {},
   "outputs": [],
   "source": [
    "'''\n",
    "    List of SP500 and international stocks\n",
    "    You can add more stocks to the list\n",
    "'''\n",
    "\n",
    "sp500_tickers = ['MMM', 'AOS', 'ABT', 'ABBV', 'ACN', 'ATVI', 'ADM', 'ADBE', 'AAP', 'AMD', 'AES', 'AFL', 'A', 'APD', 'AKAM', 'ALK', 'ALB', 'ARE', 'ALGN', 'ALLE', 'LNT', 'ALL', 'GOOGL', 'GOOG', 'MO', 'AMZN', 'AMCR', 'AEE', 'AAL', 'AEP', 'AXP', 'AIG', 'AMT', 'AWK', 'AMP', 'ABC', 'AME', 'AMGN', 'APH', 'ADI', 'ANSS', 'ANTM', 'AON', 'APA', 'AAPL', 'AMAT', 'APTV', 'ANET', 'AJG', 'AIZ', 'T', 'ATO', 'ADSK', 'ADP', 'AZO', 'AVB', 'AVY', 'BKR', 'BLL', 'BAC', 'BBWI', 'BAX', 'BDX', 'BRK.B', 'BBY', 'BIO', 'TECH', 'BIIB', 'BLK', 'BK', 'BA', 'BKNG', 'BWA', 'BXP', 'BSX', 'BMY', 'AVGO', 'BR', 'BRO', 'BF.B', 'CHRW', 'CDNS', 'CZR', 'CPB', 'COF', 'CAH', 'KMX', 'CCL', 'CARR', 'CTLT', 'CAT', 'CBOE', 'CBRE', 'CDW', 'CE', 'CNC', 'CNP', 'CERN', 'CF', 'CRL', 'SCHW', 'CHTR', 'CVX', 'CMG', 'CB', 'CHD', 'CI', 'CINF', 'CTAS', 'CSCO', 'C', 'CFG', 'CTXS', 'CLX', 'CME', 'CMS', 'KO', 'CTSH', 'CL', 'CMCSA', 'CMA', 'CAG', 'COP', 'ED', 'STZ', 'CPRT', 'GLW', 'CTVA', 'COST', 'CTRA', 'CCI', 'CSX', 'CMI', 'CVS', 'DHI', 'DHR', 'DRI', 'DVA', 'DE', 'DAL', 'XRAY', 'DVN', 'DXCM', 'FANG', 'DLR', 'DFS', 'DISCA', 'DISCK', 'DISH', 'DG', 'DLTR', 'D', 'DPZ', 'DOV', 'DOW', 'DTE', 'DUK', 'DRE', 'DD', 'DXC', 'EMN', 'ETN', 'EBAY', 'ECL', 'EIX', 'EW', 'EA', 'LLY', 'EMR', 'ENPH', 'ETR', 'EOG', 'EFX', 'EQIX', 'EQR', 'ESS', 'EL', 'ETSY', 'RE', 'EVRG', 'ES', 'EXC', 'EXPE', 'EXPD', 'EXR', 'XOM', 'FFIV', 'FB', 'FAST', 'FRT', 'FDX', 'FIS', 'FITB', 'FRC', 'FE', 'FISV', 'FLT', 'FMC', 'F', 'FTNT', 'FTV', 'FBHS', 'FOXA', 'FOX', 'BEN', 'FCX', 'GPS', 'GRMN', 'IT', 'GNRC', 'GD', 'GE', 'GIS', 'GM', 'GPC', 'GILD', 'GPN', 'GL', 'GS', 'HAL', 'HBI', 'HAS', 'HCA', 'PEAK', 'HSIC', 'HES', 'HPE', 'HLT', 'HOLX', 'HD', 'HON', 'HRL', 'HST', 'HWM', 'HPQ', 'HUM', 'HBAN', 'HII', 'IBM', 'IEX', 'IDXX', 'INFO', 'ITW', 'ILMN', 'INCY', 'IR', 'INTC', 'ICE', 'IFF', 'IP', 'IPG', 'INTU', 'ISRG', 'IVZ', 'IPGP', 'IQV', 'IRM', 'JBHT', 'JKHY', 'J', 'SJM', 'JNJ', 'JCI', 'JPM', 'JNPR', 'KSU', 'K', 'KEY', 'KEYS', 'KMB', 'KIM', 'KMI', 'KLAC', 'KHC', 'KR', 'LHX', 'LH', 'LRCX', 'LW', 'LVS', 'LEG', 'LDOS', 'LEN', 'LNC', 'LIN', 'LYV', 'LKQ', 'LMT', 'L', 'LOW', 'LUMN', 'LYB', 'MTB', 'MRO', 'MPC', 'MKTX', 'MAR', 'MMC', 'MLM', 'MAS', 'MA', 'MTCH', 'MKC', 'MCD', 'MCK', 'MDT', 'MRK', 'MET', 'MTD', 'MGM', 'MCHP', 'MU', 'MSFT', 'MAA', 'MRNA', 'MHK', 'TAP', 'MDLZ', 'MPWR', 'MNST', 'MCO', 'MS', 'MSI', 'MSCI', 'NDAQ', 'NTAP', 'NFLX', 'NWL', 'NEM', 'NWSA', 'NWS', 'NEE', 'NLSN', 'NKE', 'NI', 'NSC', 'NTRS', 'NOC', 'NLOK', 'NCLH', 'NRG', 'NUE', 'NVDA', 'NVR', 'NXPI', 'ORLY', 'OXY', 'ODFL', 'OMC', 'OKE', 'ORCL', 'OTIS', 'PCAR', 'PKG', 'PH', 'PAYX', 'PAYC', 'PYPL', 'PENN', 'PNR', 'PBCT', 'PEP', 'PKI', 'PFE', 'PM', 'PSX', 'PNW', 'PXD', 'PNC', 'POOL', 'PPG', 'PPL', 'PFG', 'PG', 'PGR', 'PLD', 'PRU', 'PTC', 'PEG', 'PSA', 'PHM', 'PVH', 'QRVO', 'QCOM', 'PWR', 'DGX', 'RL', 'RJF', 'RTX', 'O', 'REG', 'REGN', 'RF', 'RSG', 'RMD', 'RHI', 'ROK', 'ROL', 'ROP', 'ROST', 'RCL', 'SPGI', 'CRM', 'SBAC', 'SLB', 'STX', 'SEE', 'SRE', 'NOW', 'SHW', 'SPG', 'SWKS', 'SNA', 'SO', 'LUV', 'SWK', 'SBUX', 'STT', 'STE', 'SYK', 'SIVB', 'SYF', 'SNPS', 'SYY', 'TMUS', 'TROW', 'TTWO', 'TPR', 'TGT', 'TEL', 'TDY', 'TFX', 'TER', 'TSLA', 'TXN', 'TXT', 'COO', 'HIG', 'HSY', 'MOS', 'TRV', 'DIS', 'TMO', 'TJX', 'TSCO', 'TT', 'TDG', 'TRMB', 'TFC', 'TWTR', 'TYL', 'TSN', 'USB', 'UDR', 'ULTA', 'UAA', 'UA', 'UNP', 'UAL', 'UPS', 'URI', 'UNH', 'UHS', 'VLO', 'VTR', 'VRSN', 'VRSK', 'VZ', 'VRTX', 'VFC', 'VIAC', 'VTRS', 'V', 'VNO', 'VMC', 'WRB', 'GWW', 'WAB', 'WBA', 'WMT', 'WM', 'WAT', 'WEC', 'WFC', 'WELL', 'WST', 'WDC', 'WU', 'WRK', 'WY', 'WHR', 'WMB', 'WLTW', 'WYNN', 'XEL', 'XLNX', 'XYL', 'YUM', 'ZBRA', 'ZBH', 'ZION', 'ZTS']\n",
    "\n",
    "international_tickers = ['BABA', 'TCEHY', 'TM', 'NSANY', 'SNE', 'HMC', 'MSBHY', 'PNGAY', 'RNECY', 'VWAGY']\n",
    "\n",
    "all_tickers = sp500_tickers + international_tickers"
   ]
  },
  {
   "cell_type": "code",
   "execution_count": 1,
   "metadata": {},
   "outputs": [
    {
     "name": "stderr",
     "output_type": "stream",
     "text": [
      "Fetching stock data:   1%|          | 5/512 [00:06<08:49,  1.04s/it]$ATVI: possibly delisted; No timezone found\n",
      "Fetching stock data:   7%|▋         | 35/512 [00:41<08:46,  1.10s/it]$ABC: possibly delisted; No timezone found\n",
      "Fetching stock data:   8%|▊         | 41/512 [00:49<08:36,  1.10s/it]$ANTM: possibly delisted; No timezone found\n",
      "Fetching stock data:  11%|█▏        | 58/512 [01:09<08:26,  1.12s/it]$BLL: possibly delisted; No timezone found\n",
      "Fetching stock data:  12%|█▏        | 63/512 [01:17<10:12,  1.36s/it]$BRK.B: possibly delisted; No timezone found\n",
      "Fetching stock data:  15%|█▌        | 79/512 [01:36<08:15,  1.14s/it]$BF.B: possibly delisted; No price data found  (1d 2023-01-01 -> 2024-07-07)\n",
      "Fetching stock data:  16%|█▌        | 80/512 [01:37<06:32,  1.10it/s]"
     ]
    },
    {
     "name": "stdout",
     "output_type": "stream",
     "text": [
      "$BF.B: possibly delisted; No price data found  (1d 2023-01-01 -> 2024-07-07)\n"
     ]
    },
    {
     "name": "stderr",
     "output_type": "stream",
     "text": [
      "Fetching stock data:  19%|█▉        | 97/512 [01:54<07:06,  1.03s/it]$CERN: possibly delisted; No timezone found\n",
      "Fetching stock data:  22%|██▏       | 112/512 [02:11<06:33,  1.02it/s]$CTXS: possibly delisted; No timezone found\n",
      "Fetching stock data:  29%|██▊       | 146/512 [02:51<06:29,  1.06s/it]$DISCA: possibly delisted; No timezone found\n",
      "Fetching stock data:  29%|██▊       | 147/512 [02:53<07:51,  1.29s/it]$DISCK: possibly delisted; No timezone found\n",
      "Fetching stock data:  29%|██▉       | 148/512 [02:55<09:12,  1.52s/it]$DISH: possibly delisted; No timezone found\n",
      "Fetching stock data:  31%|███       | 157/512 [03:06<07:01,  1.19s/it]$DRE: possibly delisted; No timezone found\n",
      "Fetching stock data:  35%|███▍      | 178/512 [03:33<06:28,  1.16s/it]$RE: possibly delisted; No timezone found\n",
      "Fetching stock data:  37%|███▋      | 187/512 [03:44<06:00,  1.11s/it]$FB: possibly delisted; No timezone found\n",
      "Fetching stock data:  38%|███▊      | 193/512 [03:53<06:13,  1.17s/it]$FRC: possibly delisted; No timezone found\n",
      "Fetching stock data:  38%|███▊      | 196/512 [03:57<06:39,  1.27s/it]$FLT: possibly delisted; No timezone found\n",
      "Fetching stock data:  39%|███▉      | 201/512 [04:04<05:49,  1.12s/it]$FBHS: possibly delisted; No timezone found\n",
      "Fetching stock data:  44%|████▎     | 223/512 [04:29<04:51,  1.01s/it]$PEAK: possibly delisted; No timezone found\n",
      "Fetching stock data:  47%|████▋     | 241/512 [04:49<04:22,  1.03it/s]$INFO: possibly delisted; No timezone found\n",
      "Fetching stock data:  52%|█████▏    | 265/512 [05:14<04:21,  1.06s/it]$KSU: possibly delisted; No timezone found\n",
      "Fetching stock data:  65%|██████▍   | 332/512 [06:29<03:29,  1.17s/it]$NLSN: possibly delisted; No timezone found\n",
      "Fetching stock data:  66%|██████▌   | 338/512 [06:37<03:24,  1.18s/it]$NLOK: possibly delisted; No timezone found\n",
      "Fetching stock data:  70%|███████   | 360/512 [07:03<02:51,  1.13s/it]$PBCT: possibly delisted; No timezone found\n",
      "Fetching stock data:  71%|███████   | 362/512 [07:07<03:25,  1.37s/it]$PKI: possibly delisted; No timezone found\n",
      "Fetching stock data:  72%|███████▏  | 367/512 [07:13<02:56,  1.22s/it]$PXD: possibly delisted; No timezone found\n",
      "Fetching stock data:  82%|████████▏ | 420/512 [08:13<01:41,  1.10s/it]SIVB: Period '1mo' is invalid, must be one of ['1d', '5d']\n",
      "Fetching stock data:  88%|████████▊ | 449/512 [08:44<01:04,  1.03s/it]$TWTR: possibly delisted; No timezone found\n",
      "Fetching stock data:  92%|█████████▏| 470/512 [09:10<00:42,  1.01s/it]$VIAC: possibly delisted; No timezone found\n",
      "Fetching stock data:  96%|█████████▌| 492/512 [09:35<00:22,  1.12s/it]$WLTW: possibly delisted; No timezone found\n",
      "Fetching stock data:  97%|█████████▋| 495/512 [09:40<00:23,  1.37s/it]$XLNX: possibly delisted; No timezone found\n",
      "Fetching stock data:  99%|█████████▉| 506/512 [09:53<00:06,  1.00s/it]$SNE: possibly delisted; No timezone found\n",
      "Fetching stock data:  99%|█████████▉| 508/512 [09:57<00:05,  1.32s/it]$MSBHY: possibly delisted; No timezone found\n",
      "Fetching stock data: 100%|██████████| 512/512 [10:03<00:00,  1.18s/it]"
     ]
    },
    {
     "name": "stdout",
     "output_type": "stream",
     "text": [
      "  Ticker  Volatility      Beta  Risk Percentage    Market Cap  P/E Ratio  \\\n",
      "0    MMM    0.275628  0.970411        50.928382  5.606654e+10        NaN   \n",
      "1    AOS    0.254402  1.055130        45.888594  1.180400e+10  20.903898   \n",
      "2    ABT    0.189417  0.522517        50.663130  1.809563e+11  32.404984   \n",
      "3   ABBV    0.195789  0.247311        45.888594  2.953418e+11  49.776787   \n",
      "4    ACN    0.231128  1.027499        47.745358  1.873765e+11  27.393774   \n",
      "\n",
      "   Dividend Yield  Current Ratio  52 Week High  52 Week Low  \n",
      "0          0.0276          1.643        106.04     71.36288  \n",
      "1          0.0159          1.654         89.96     64.14000  \n",
      "2          0.0211          1.596        121.64     89.67000  \n",
      "3          0.0371          0.936        182.89    132.70000  \n",
      "4          0.0172          1.157        387.51    278.69000  \n",
      "Dataset shape: (480, 10)\n",
      "Data saved to 'stock_data_large.csv'\n"
     ]
    },
    {
     "name": "stderr",
     "output_type": "stream",
     "text": [
      "\n"
     ]
    }
   ],
   "source": [
    "'''\n",
    "    Fetch stock data from Yahoo Finance\n",
    "    Calculate volatility, beta, risk percentage, market cap, P/E ratio, dividend yield, current ratio, 52 week high, 52 week low\n",
    "\n",
    "    Args:\n",
    "        ticker: Stock ticker\n",
    "        start_date: Start date for historical data\n",
    "        end_date: End date for historical data\n",
    "'''\n",
    "\n",
    "def fetch_stock_data(ticker, start_date, end_date):\n",
    "    try:\n",
    "        stock = yf.Ticker(ticker)\n",
    "        hist = stock.history(start=start_date, end=end_date)\n",
    "        \n",
    "        if hist.empty:\n",
    "            return None\n",
    "        \n",
    "        returns = hist['Close'].pct_change().dropna()\n",
    "        \n",
    "        volatility = returns.std() * np.sqrt(252)\n",
    "        \n",
    "        market = yf.Ticker('^GSPC').history(start=start_date, end=end_date)\n",
    "        market_returns = market['Close'].pct_change().dropna()\n",
    "        covariance = returns.cov(market_returns)\n",
    "        market_variance = market_returns.var()\n",
    "        beta = covariance / market_variance\n",
    "        \n",
    "        risk_percentage = (returns < 0).mean() * 100\n",
    "        \n",
    "        info = stock.info\n",
    "        \n",
    "        return {\n",
    "            'Ticker': ticker,\n",
    "            'Volatility': volatility,\n",
    "            'Beta': beta,\n",
    "            'Risk Percentage': risk_percentage,\n",
    "            'Market Cap': info.get('marketCap'),\n",
    "            'P/E Ratio': info.get('trailingPE'),\n",
    "            'Dividend Yield': info.get('dividendYield'),\n",
    "            'Current Ratio': info.get('currentRatio'),\n",
    "            '52 Week High': info.get('fiftyTwoWeekHigh'),\n",
    "            '52 Week Low': info.get('fiftyTwoWeekLow')\n",
    "        }\n",
    "    except Exception as e:\n",
    "        print(f\"Error fetching data for {ticker}: {str(e)}\")\n",
    "        return None\n",
    "\n",
    "start_date = '2023-01-01'\n",
    "end_date = '2024-07-07'\n",
    "\n",
    "data = []\n",
    "for ticker in tqdm(all_tickers, desc=\"Fetching stock data\"):\n",
    "    stock_data = fetch_stock_data(ticker, start_date, end_date)\n",
    "    if stock_data:\n",
    "        data.append(stock_data)\n",
    "\n",
    "df = pd.DataFrame(data)\n",
    "\n",
    "print(df.head())\n",
    "print(f\"Dataset shape: {df.shape}\")\n",
    "\n",
    "df.to_csv('stock_data_large.csv', index=False)\n",
    "print(\"Data saved to 'stock_data_large.csv'\")\n"
   ]
  }
 ],
 "metadata": {
  "kernelspec": {
   "display_name": "Python 3",
   "language": "python",
   "name": "python3"
  },
  "language_info": {
   "codemirror_mode": {
    "name": "ipython",
    "version": 3
   },
   "file_extension": ".py",
   "mimetype": "text/x-python",
   "name": "python",
   "nbconvert_exporter": "python",
   "pygments_lexer": "ipython3",
   "version": "3.9.0"
  }
 },
 "nbformat": 4,
 "nbformat_minor": 2
}
