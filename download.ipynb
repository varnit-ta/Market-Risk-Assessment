{
 "cells": [
  {
   "cell_type": "code",
   "execution_count": null,
   "metadata": {},
   "outputs": [],
   "source": [
    "'''\n",
    "    The sole purpose of this file is to download the data\n",
    "    from yahoo finance and save it to a csv file.\n",
    "'''"
   ]
  },
  {
   "cell_type": "code",
   "execution_count": null,
   "metadata": {},
   "outputs": [],
   "source": [
    "import yfinance as yf\n",
    "import pandas as pd\n",
    "import numpy as np\n",
    "from tqdm import tqdm"
   ]
  },
  {
   "cell_type": "code",
   "execution_count": null,
   "metadata": {},
   "outputs": [],
   "source": [
    "'''\n",
    "    List of SP500 and international stocks\n",
    "    You can add more stocks to the list\n",
    "'''\n",
    "\n",
    "sp500_tickers = ['MMM', 'AOS', 'ABT', 'ABBV', 'ACN', 'ATVI', 'ADM', 'ADBE', 'AAP', 'AMD', 'AES', 'AFL', 'A', 'APD', 'AKAM', 'ALK', 'ALB', 'ARE', 'ALGN', 'ALLE', 'LNT', 'ALL', 'GOOGL', 'GOOG', 'MO', 'AMZN', 'AMCR', 'AEE', 'AAL', 'AEP', 'AXP', 'AIG', 'AMT', 'AWK', 'AMP', 'ABC', 'AME', 'AMGN', 'APH', 'ADI', 'ANSS', 'ANTM', 'AON', 'APA', 'AAPL', 'AMAT', 'APTV', 'ANET', 'AJG', 'AIZ', 'T', 'ATO', 'ADSK', 'ADP', 'AZO', 'AVB', 'AVY', 'BKR', 'BLL', 'BAC', 'BBWI', 'BAX', 'BDX', 'BRK.B', 'BBY', 'BIO', 'TECH', 'BIIB', 'BLK', 'BK', 'BA', 'BKNG', 'BWA', 'BXP', 'BSX', 'BMY', 'AVGO', 'BR', 'BRO', 'BF.B', 'CHRW', 'CDNS', 'CZR', 'CPB', 'COF', 'CAH', 'KMX', 'CCL', 'CARR', 'CTLT', 'CAT', 'CBOE', 'CBRE', 'CDW', 'CE', 'CNC', 'CNP', 'CERN', 'CF', 'CRL', 'SCHW', 'CHTR', 'CVX', 'CMG', 'CB', 'CHD', 'CI', 'CINF', 'CTAS', 'CSCO', 'C', 'CFG', 'CTXS', 'CLX', 'CME', 'CMS', 'KO', 'CTSH', 'CL', 'CMCSA', 'CMA', 'CAG', 'COP', 'ED', 'STZ', 'CPRT', 'GLW', 'CTVA', 'COST', 'CTRA', 'CCI', 'CSX', 'CMI', 'CVS', 'DHI', 'DHR', 'DRI', 'DVA', 'DE', 'DAL', 'XRAY', 'DVN', 'DXCM', 'FANG', 'DLR', 'DFS', 'DISCA', 'DISCK', 'DISH', 'DG', 'DLTR', 'D', 'DPZ', 'DOV', 'DOW', 'DTE', 'DUK', 'DRE', 'DD', 'DXC', 'EMN', 'ETN', 'EBAY', 'ECL', 'EIX', 'EW', 'EA', 'LLY', 'EMR', 'ENPH', 'ETR', 'EOG', 'EFX', 'EQIX', 'EQR', 'ESS', 'EL', 'ETSY', 'RE', 'EVRG', 'ES', 'EXC', 'EXPE', 'EXPD', 'EXR', 'XOM', 'FFIV', 'FB', 'FAST', 'FRT', 'FDX', 'FIS', 'FITB', 'FRC', 'FE', 'FISV', 'FLT', 'FMC', 'F', 'FTNT', 'FTV', 'FBHS', 'FOXA', 'FOX', 'BEN', 'FCX', 'GPS', 'GRMN', 'IT', 'GNRC', 'GD', 'GE', 'GIS', 'GM', 'GPC', 'GILD', 'GPN', 'GL', 'GS', 'HAL', 'HBI', 'HAS', 'HCA', 'PEAK', 'HSIC', 'HES', 'HPE', 'HLT', 'HOLX', 'HD', 'HON', 'HRL', 'HST', 'HWM', 'HPQ', 'HUM', 'HBAN', 'HII', 'IBM', 'IEX', 'IDXX', 'INFO', 'ITW', 'ILMN', 'INCY', 'IR', 'INTC', 'ICE', 'IFF', 'IP', 'IPG', 'INTU', 'ISRG', 'IVZ', 'IPGP', 'IQV', 'IRM', 'JBHT', 'JKHY', 'J', 'SJM', 'JNJ', 'JCI', 'JPM', 'JNPR', 'KSU', 'K', 'KEY', 'KEYS', 'KMB', 'KIM', 'KMI', 'KLAC', 'KHC', 'KR', 'LHX', 'LH', 'LRCX', 'LW', 'LVS', 'LEG', 'LDOS', 'LEN', 'LNC', 'LIN', 'LYV', 'LKQ', 'LMT', 'L', 'LOW', 'LUMN', 'LYB', 'MTB', 'MRO', 'MPC', 'MKTX', 'MAR', 'MMC', 'MLM', 'MAS', 'MA', 'MTCH', 'MKC', 'MCD', 'MCK', 'MDT', 'MRK', 'MET', 'MTD', 'MGM', 'MCHP', 'MU', 'MSFT', 'MAA', 'MRNA', 'MHK', 'TAP', 'MDLZ', 'MPWR', 'MNST', 'MCO', 'MS', 'MSI', 'MSCI', 'NDAQ', 'NTAP', 'NFLX', 'NWL', 'NEM', 'NWSA', 'NWS', 'NEE', 'NLSN', 'NKE', 'NI', 'NSC', 'NTRS', 'NOC', 'NLOK', 'NCLH', 'NRG', 'NUE', 'NVDA', 'NVR', 'NXPI', 'ORLY', 'OXY', 'ODFL', 'OMC', 'OKE', 'ORCL', 'OTIS', 'PCAR', 'PKG', 'PH', 'PAYX', 'PAYC', 'PYPL', 'PENN', 'PNR', 'PBCT', 'PEP', 'PKI', 'PFE', 'PM', 'PSX', 'PNW', 'PXD', 'PNC', 'POOL', 'PPG', 'PPL', 'PFG', 'PG', 'PGR', 'PLD', 'PRU', 'PTC', 'PEG', 'PSA', 'PHM', 'PVH', 'QRVO', 'QCOM', 'PWR', 'DGX', 'RL', 'RJF', 'RTX', 'O', 'REG', 'REGN', 'RF', 'RSG', 'RMD', 'RHI', 'ROK', 'ROL', 'ROP', 'ROST', 'RCL', 'SPGI', 'CRM', 'SBAC', 'SLB', 'STX', 'SEE', 'SRE', 'NOW', 'SHW', 'SPG', 'SWKS', 'SNA', 'SO', 'LUV', 'SWK', 'SBUX', 'STT', 'STE', 'SYK', 'SIVB', 'SYF', 'SNPS', 'SYY', 'TMUS', 'TROW', 'TTWO', 'TPR', 'TGT', 'TEL', 'TDY', 'TFX', 'TER', 'TSLA', 'TXN', 'TXT', 'COO', 'HIG', 'HSY', 'MOS', 'TRV', 'DIS', 'TMO', 'TJX', 'TSCO', 'TT', 'TDG', 'TRMB', 'TFC', 'TWTR', 'TYL', 'TSN', 'USB', 'UDR', 'ULTA', 'UAA', 'UA', 'UNP', 'UAL', 'UPS', 'URI', 'UNH', 'UHS', 'VLO', 'VTR', 'VRSN', 'VRSK', 'VZ', 'VRTX', 'VFC', 'VIAC', 'VTRS', 'V', 'VNO', 'VMC', 'WRB', 'GWW', 'WAB', 'WBA', 'WMT', 'WM', 'WAT', 'WEC', 'WFC', 'WELL', 'WST', 'WDC', 'WU', 'WRK', 'WY', 'WHR', 'WMB', 'WLTW', 'WYNN', 'XEL', 'XLNX', 'XYL', 'YUM', 'ZBRA', 'ZBH', 'ZION', 'ZTS']\n",
    "\n",
    "high_risk_tickers = ['TSLA', 'NIO', 'GME', 'AMC', 'BYND', 'NKLA', 'PLTR', 'SQ', 'RIDE', 'SPCE','MARA', 'RKT', 'FUBO', 'WISH', 'PENN', 'HOOD', 'BBBY', 'ZNGA', 'QS', 'FCEL','XPEV', 'LI', 'LCID', 'SOFI', 'ROKU', 'COIN', 'BMBL', 'DASH', 'SNOW', 'UPST', 'SE', 'BILI', 'JD', 'PDD', 'SHOP', 'PYPL', 'ETSY', 'TWLO', 'DOCU', 'PTON', 'U', 'SNAP', 'ZM', 'NVDA', 'AMD', 'MU', 'INTC', 'MRNA', 'BNTX', 'NVAX', 'REGN', 'VRTX', 'CRSP', 'EDIT', 'NTLA', 'BEAM', 'ARKK', 'ARKG', 'ARKF', 'ARKW', 'ARKQ', 'SPY', 'QQQ', 'DIA', 'IWM', 'VXX', 'UVXY', 'SQQQ', 'TQQQ', 'SOXL', 'LABU', 'NUGT', 'JNUG', 'DUST', 'JDST', 'TNA', 'FAZ', 'FAS', 'TECL', 'SOXS', 'LABD', 'SDOW', 'UDOW', 'TZA', 'TBT', 'TMF', 'SH', 'DOG', 'PSQ', 'RWM', 'HDGE', 'MLCO', 'LVS', 'WYNN', 'MGM', 'CZR', 'PENN', 'DKNG', 'RSI', 'GAN', 'ACCD', 'AFRM', 'AGC', 'AI', 'ALIT', 'APPS', 'ATER', 'BB', 'BBIG', 'BFLY', 'BLNK', 'BNTX', 'BOWL', 'BRPM', 'BTRS', 'BUD', 'CCIV', 'CCL', 'CHPT', 'CLSK', 'CMCL', 'COCP', 'CRBP', 'CTRM', 'CYDY', 'DPW', 'EBON', 'EXPI', 'FCEL', 'FRSX', 'FTFT', 'FUBO', 'GILT', 'GNUS', 'GRWG', 'HYLN', 'IBIO', 'IDEX', 'INO', 'IPOC', 'ITRM', 'JAGX', 'JMIA', 'KNDI', 'KXIN', 'LI', 'LMND', 'LPCN', 'MARA', 'MDRR', 'METX', 'MOGO', 'NCTY', 'NIO', 'NKLA', 'NNDM', 'NNVC', 'NOVN', 'NTEC', 'NVAX', 'OBLN', 'OCGN', 'OPGN', 'ORGO', 'OSUR', 'OXBR', 'PHUN', 'PLUG', 'POLA', 'PRPO', 'RBLX', 'RCMT', 'RIOT', 'RKT', 'RWLK', 'SAVA', 'SHIP', 'SLS', 'SNAP', 'SNMP', 'SNDL', 'SOL', 'SONN', 'SOS', 'SPCE', 'SPEX', 'SPI', 'SRNE', 'SSPK', 'STAF', 'SUNW', 'SUTI', 'TELL', 'THCB', 'TNXP', 'TOPS', 'TRXC', 'TSNP', 'TTNP', 'TYME', 'UAVS', 'UWMC', 'UXIN', 'VERU', 'VISL', 'VSTM', 'VUZI', 'WBAI', 'WKHS', 'WLL', 'WORX', 'XELA', 'XERS', 'XPEV', 'ZOM', 'ZVO', 'ZKIN', 'ZYNE', 'ZLAB', 'ZYXI', 'ZVO', 'ZOOM', 'ZYNGA', 'ACAD', 'AERI', 'AFMD', 'AGEN', 'AIM', 'ALDX', 'ALGN', 'ALKS','ALNA', 'ALT', 'AMRN', 'ANAB', 'ARCT', 'ARNA', 'ARQL', 'ARWR', 'ASMB', 'ASND','ASRT', 'ATNX', 'ATOS', 'AVXL', 'AXSM', 'BDSI', 'BLCM', 'BLUE', 'BPMC', 'BTAI','CBAY', 'CCXI', 'CLLS', 'CLSD', 'CLVS', 'CNSP', 'COCP', 'CRDF', 'CRMD', 'CRVS','CTIC', 'CYCC', 'CYTK', 'DARE', 'DERM', 'DRRX', 'EARS', 'ECYT', 'EIGR', 'ELOX','ENTA', 'EPIX', 'ETNB', 'EXEL', 'FATE', 'FBIO', 'FENC', 'FGEN', 'FLXN', 'FOLD','GALT', 'GILD', 'GLPG', 'GMDA', 'GOSS', 'GRTS', 'GTHX', 'HALO', 'HCM', 'HRTX','IDRA', 'IMMP', 'IMUX', 'INFI', 'INO', 'INSM', 'IOVA', 'ITCI', 'JNCE', 'KALA','KDMN', 'KNSA', 'KPTI', 'KRYS', 'KURA', 'LIFE', 'LXRX', 'MCRB', 'MDGL', 'MESO','MGTX', 'MITO', 'MRSN', 'MRTX', 'MTEM', 'MYOV', 'NAII', 'NBIX', 'NBRV', 'NERV','NLNK', 'NVCR', 'NXTC', 'OCUL', 'ONCY', 'ONTX', 'OPGN', 'OPK', 'ORTX', 'OTLK','OVID', 'PACB', 'PBYI', 'PDSB', 'PIRS', 'PRQR', 'PRTA', 'PRVB', 'PTCT', 'RIGL','RMTI', 'RNN', 'RTRX', 'RVNC', 'RXDX', 'SAVA', 'SBBP', 'SGEN', 'SGMO', 'SNCA','SRPT', 'SWTX', 'SYBX', 'SYN', 'TCON', 'TCRR', 'THLD', 'TNXP', 'TRIL', 'TRVN','TSHA', 'TTNP', 'TTOO', 'TUP', 'TXMD', 'TYME', 'UBX', 'UROV', 'VBLT', 'VBIV','VCEL', 'VECT', 'VIR', 'VKTX', 'VSTM', 'VYGR', 'WSTL', 'XAIR', 'XBIT', 'XBIO','XERS', 'XTNT', 'YMTX', 'ZFGN', 'ZIOP', 'ZYME']\n",
    "\n",
    "\n",
    "international_tickers = ['BABA', 'TCEHY', 'TM', 'NSANY', 'SNE', 'HMC', 'MSBHY', 'PNGAY', 'RNECY', 'VWAGY']\n",
    "\n",
    "all_tickers = sp500_tickers + international_tickers + high_risk_tickers"
   ]
  },
  {
   "cell_type": "code",
   "execution_count": null,
   "metadata": {},
   "outputs": [],
   "source": [
    "import yfinance as yf\n",
    "import pandas as pd\n",
    "import time\n",
    "\n",
    "data = []\n",
    "\n",
    "def fetch_stock_data(ticker, start_date, end_date):\n",
    "    try:\n",
    "        stock = yf.Ticker(ticker)\n",
    "        hist = stock.history(start=start_date, end=end_date)\n",
    "        \n",
    "        if hist.empty:\n",
    "            return None\n",
    "        \n",
    "        returns = hist['Close'].pct_change().dropna()\n",
    "        \n",
    "        volatility = returns.std() * np.sqrt(252)\n",
    "        \n",
    "        market = yf.Ticker('^GSPC').history(start=start_date, end=end_date)\n",
    "        market_returns = market['Close'].pct_change().dropna()\n",
    "        covariance = returns.cov(market_returns)\n",
    "        market_variance = market_returns.var()\n",
    "        beta = covariance / market_variance\n",
    "        \n",
    "        risk_percentage = (returns < 0).mean() * 100\n",
    "        \n",
    "        info = stock.info\n",
    "        \n",
    "        return {\n",
    "            'Ticker': ticker,\n",
    "            'Volatility': volatility,\n",
    "            'Beta': beta,\n",
    "            'Market Cap': info.get('marketCap'),\n",
    "            'P/E Ratio': info.get('trailingPE'),\n",
    "            'Dividend Yield': info.get('dividendYield'),\n",
    "            'Current Ratio': info.get('currentRatio'),\n",
    "            '52 Week High': info.get('fiftyTwoWeekHigh'),\n",
    "            '52 Week Low': info.get('fiftyTwoWeekLow'),\n",
    "            'Risk Percentage': risk_percentage\n",
    "        }\n",
    "    except Exception as e:\n",
    "        print(f\"Error fetching data for {ticker}: {str(e)}\")\n",
    "        return None\n",
    "\n",
    "start_date = '2023-01-01'\n",
    "end_date = '2024-07-07'\n",
    "\n",
    "data = []\n",
    "for ticker in tqdm(all_tickers, desc=\"Fetching stock data\"):\n",
    "    stock_data = fetch_stock_data(ticker, start_date, end_date)\n",
    "    if stock_data:\n",
    "        data.append(stock_data)\n",
    "\n",
    "df = pd.DataFrame(data)\n",
    "\n",
    "print(df.head())\n",
    "print(f\"Dataset shape: {df.shape}\")\n",
    "\n",
    "df.to_csv('data.csv', index=False)\n",
    "print(\"Data saved to 'data.csv'\")"
   ]
  }
 ],
 "metadata": {
  "kernelspec": {
   "display_name": "Python 3",
   "language": "python",
   "name": "python3"
  },
  "language_info": {
   "codemirror_mode": {
    "name": "ipython",
    "version": 3
   },
   "file_extension": ".py",
   "mimetype": "text/x-python",
   "name": "python",
   "nbconvert_exporter": "python",
   "pygments_lexer": "ipython3",
   "version": "3.9.0"
  }
 },
 "nbformat": 4,
 "nbformat_minor": 2
}
